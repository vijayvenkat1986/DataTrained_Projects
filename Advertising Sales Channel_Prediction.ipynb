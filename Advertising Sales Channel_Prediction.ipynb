{
 "cells": [
  {
   "cell_type": "markdown",
   "metadata": {},
   "source": [
    "# Advertising Sales Channel Prediction \n"
   ]
  },
  {
   "cell_type": "code",
   "execution_count": 1,
   "metadata": {},
   "outputs": [],
   "source": [
    "import numpy as np\n",
    "import pandas as pd"
   ]
  },
  {
   "cell_type": "code",
   "execution_count": 3,
   "metadata": {},
   "outputs": [],
   "source": [
    "df=pd.read_csv('C:\\\\Users\\\\Admin\\\\Downloads\\\\Datatrained Projects\\\\Advertising.csv')"
   ]
  },
  {
   "cell_type": "code",
   "execution_count": 4,
   "metadata": {},
   "outputs": [
    {
     "data": {
      "text/html": [
       "<div>\n",
       "<style scoped>\n",
       "    .dataframe tbody tr th:only-of-type {\n",
       "        vertical-align: middle;\n",
       "    }\n",
       "\n",
       "    .dataframe tbody tr th {\n",
       "        vertical-align: top;\n",
       "    }\n",
       "\n",
       "    .dataframe thead th {\n",
       "        text-align: right;\n",
       "    }\n",
       "</style>\n",
       "<table border=\"1\" class=\"dataframe\">\n",
       "  <thead>\n",
       "    <tr style=\"text-align: right;\">\n",
       "      <th></th>\n",
       "      <th>Unnamed: 0</th>\n",
       "      <th>TV</th>\n",
       "      <th>radio</th>\n",
       "      <th>newspaper</th>\n",
       "      <th>sales</th>\n",
       "    </tr>\n",
       "  </thead>\n",
       "  <tbody>\n",
       "    <tr>\n",
       "      <th>0</th>\n",
       "      <td>1</td>\n",
       "      <td>230.1</td>\n",
       "      <td>37.8</td>\n",
       "      <td>69.2</td>\n",
       "      <td>22.1</td>\n",
       "    </tr>\n",
       "    <tr>\n",
       "      <th>1</th>\n",
       "      <td>2</td>\n",
       "      <td>44.5</td>\n",
       "      <td>39.3</td>\n",
       "      <td>45.1</td>\n",
       "      <td>10.4</td>\n",
       "    </tr>\n",
       "    <tr>\n",
       "      <th>2</th>\n",
       "      <td>3</td>\n",
       "      <td>17.2</td>\n",
       "      <td>45.9</td>\n",
       "      <td>69.3</td>\n",
       "      <td>9.3</td>\n",
       "    </tr>\n",
       "    <tr>\n",
       "      <th>3</th>\n",
       "      <td>4</td>\n",
       "      <td>151.5</td>\n",
       "      <td>41.3</td>\n",
       "      <td>58.5</td>\n",
       "      <td>18.5</td>\n",
       "    </tr>\n",
       "    <tr>\n",
       "      <th>4</th>\n",
       "      <td>5</td>\n",
       "      <td>180.8</td>\n",
       "      <td>10.8</td>\n",
       "      <td>58.4</td>\n",
       "      <td>12.9</td>\n",
       "    </tr>\n",
       "  </tbody>\n",
       "</table>\n",
       "</div>"
      ],
      "text/plain": [
       "   Unnamed: 0     TV  radio  newspaper  sales\n",
       "0           1  230.1   37.8       69.2   22.1\n",
       "1           2   44.5   39.3       45.1   10.4\n",
       "2           3   17.2   45.9       69.3    9.3\n",
       "3           4  151.5   41.3       58.5   18.5\n",
       "4           5  180.8   10.8       58.4   12.9"
      ]
     },
     "execution_count": 4,
     "metadata": {},
     "output_type": "execute_result"
    }
   ],
   "source": [
    "df.head()"
   ]
  },
  {
   "cell_type": "code",
   "execution_count": 5,
   "metadata": {},
   "outputs": [
    {
     "data": {
      "text/html": [
       "<div>\n",
       "<style scoped>\n",
       "    .dataframe tbody tr th:only-of-type {\n",
       "        vertical-align: middle;\n",
       "    }\n",
       "\n",
       "    .dataframe tbody tr th {\n",
       "        vertical-align: top;\n",
       "    }\n",
       "\n",
       "    .dataframe thead th {\n",
       "        text-align: right;\n",
       "    }\n",
       "</style>\n",
       "<table border=\"1\" class=\"dataframe\">\n",
       "  <thead>\n",
       "    <tr style=\"text-align: right;\">\n",
       "      <th></th>\n",
       "      <th>Unnamed: 0</th>\n",
       "      <th>TV</th>\n",
       "      <th>radio</th>\n",
       "      <th>newspaper</th>\n",
       "      <th>sales</th>\n",
       "    </tr>\n",
       "  </thead>\n",
       "  <tbody>\n",
       "    <tr>\n",
       "      <th>195</th>\n",
       "      <td>196</td>\n",
       "      <td>38.2</td>\n",
       "      <td>3.7</td>\n",
       "      <td>13.8</td>\n",
       "      <td>7.6</td>\n",
       "    </tr>\n",
       "    <tr>\n",
       "      <th>196</th>\n",
       "      <td>197</td>\n",
       "      <td>94.2</td>\n",
       "      <td>4.9</td>\n",
       "      <td>8.1</td>\n",
       "      <td>9.7</td>\n",
       "    </tr>\n",
       "    <tr>\n",
       "      <th>197</th>\n",
       "      <td>198</td>\n",
       "      <td>177.0</td>\n",
       "      <td>9.3</td>\n",
       "      <td>6.4</td>\n",
       "      <td>12.8</td>\n",
       "    </tr>\n",
       "    <tr>\n",
       "      <th>198</th>\n",
       "      <td>199</td>\n",
       "      <td>283.6</td>\n",
       "      <td>42.0</td>\n",
       "      <td>66.2</td>\n",
       "      <td>25.5</td>\n",
       "    </tr>\n",
       "    <tr>\n",
       "      <th>199</th>\n",
       "      <td>200</td>\n",
       "      <td>232.1</td>\n",
       "      <td>8.6</td>\n",
       "      <td>8.7</td>\n",
       "      <td>13.4</td>\n",
       "    </tr>\n",
       "  </tbody>\n",
       "</table>\n",
       "</div>"
      ],
      "text/plain": [
       "     Unnamed: 0     TV  radio  newspaper  sales\n",
       "195         196   38.2    3.7       13.8    7.6\n",
       "196         197   94.2    4.9        8.1    9.7\n",
       "197         198  177.0    9.3        6.4   12.8\n",
       "198         199  283.6   42.0       66.2   25.5\n",
       "199         200  232.1    8.6        8.7   13.4"
      ]
     },
     "execution_count": 5,
     "metadata": {},
     "output_type": "execute_result"
    }
   ],
   "source": [
    "df.tail()"
   ]
  },
  {
   "cell_type": "code",
   "execution_count": 6,
   "metadata": {},
   "outputs": [],
   "source": [
    "df=df.set_index('Unnamed: 0')"
   ]
  },
  {
   "cell_type": "markdown",
   "metadata": {},
   "source": [
    "making \"Unnamed: 0\" columns as a index column"
   ]
  },
  {
   "cell_type": "code",
   "execution_count": 7,
   "metadata": {},
   "outputs": [
    {
     "data": {
      "text/html": [
       "<div>\n",
       "<style scoped>\n",
       "    .dataframe tbody tr th:only-of-type {\n",
       "        vertical-align: middle;\n",
       "    }\n",
       "\n",
       "    .dataframe tbody tr th {\n",
       "        vertical-align: top;\n",
       "    }\n",
       "\n",
       "    .dataframe thead th {\n",
       "        text-align: right;\n",
       "    }\n",
       "</style>\n",
       "<table border=\"1\" class=\"dataframe\">\n",
       "  <thead>\n",
       "    <tr style=\"text-align: right;\">\n",
       "      <th></th>\n",
       "      <th>TV</th>\n",
       "      <th>radio</th>\n",
       "      <th>newspaper</th>\n",
       "      <th>sales</th>\n",
       "    </tr>\n",
       "    <tr>\n",
       "      <th>Unnamed: 0</th>\n",
       "      <th></th>\n",
       "      <th></th>\n",
       "      <th></th>\n",
       "      <th></th>\n",
       "    </tr>\n",
       "  </thead>\n",
       "  <tbody>\n",
       "    <tr>\n",
       "      <th>1</th>\n",
       "      <td>230.1</td>\n",
       "      <td>37.8</td>\n",
       "      <td>69.2</td>\n",
       "      <td>22.1</td>\n",
       "    </tr>\n",
       "    <tr>\n",
       "      <th>2</th>\n",
       "      <td>44.5</td>\n",
       "      <td>39.3</td>\n",
       "      <td>45.1</td>\n",
       "      <td>10.4</td>\n",
       "    </tr>\n",
       "    <tr>\n",
       "      <th>3</th>\n",
       "      <td>17.2</td>\n",
       "      <td>45.9</td>\n",
       "      <td>69.3</td>\n",
       "      <td>9.3</td>\n",
       "    </tr>\n",
       "    <tr>\n",
       "      <th>4</th>\n",
       "      <td>151.5</td>\n",
       "      <td>41.3</td>\n",
       "      <td>58.5</td>\n",
       "      <td>18.5</td>\n",
       "    </tr>\n",
       "    <tr>\n",
       "      <th>5</th>\n",
       "      <td>180.8</td>\n",
       "      <td>10.8</td>\n",
       "      <td>58.4</td>\n",
       "      <td>12.9</td>\n",
       "    </tr>\n",
       "  </tbody>\n",
       "</table>\n",
       "</div>"
      ],
      "text/plain": [
       "               TV  radio  newspaper  sales\n",
       "Unnamed: 0                                \n",
       "1           230.1   37.8       69.2   22.1\n",
       "2            44.5   39.3       45.1   10.4\n",
       "3            17.2   45.9       69.3    9.3\n",
       "4           151.5   41.3       58.5   18.5\n",
       "5           180.8   10.8       58.4   12.9"
      ]
     },
     "execution_count": 7,
     "metadata": {},
     "output_type": "execute_result"
    }
   ],
   "source": [
    "df.head()"
   ]
  },
  {
   "cell_type": "code",
   "execution_count": 8,
   "metadata": {},
   "outputs": [
    {
     "data": {
      "text/html": [
       "<div>\n",
       "<style scoped>\n",
       "    .dataframe tbody tr th:only-of-type {\n",
       "        vertical-align: middle;\n",
       "    }\n",
       "\n",
       "    .dataframe tbody tr th {\n",
       "        vertical-align: top;\n",
       "    }\n",
       "\n",
       "    .dataframe thead th {\n",
       "        text-align: right;\n",
       "    }\n",
       "</style>\n",
       "<table border=\"1\" class=\"dataframe\">\n",
       "  <thead>\n",
       "    <tr style=\"text-align: right;\">\n",
       "      <th></th>\n",
       "      <th>TV</th>\n",
       "      <th>radio</th>\n",
       "      <th>newspaper</th>\n",
       "      <th>sales</th>\n",
       "    </tr>\n",
       "    <tr>\n",
       "      <th>Unnamed: 0</th>\n",
       "      <th></th>\n",
       "      <th></th>\n",
       "      <th></th>\n",
       "      <th></th>\n",
       "    </tr>\n",
       "  </thead>\n",
       "  <tbody>\n",
       "    <tr>\n",
       "      <th>196</th>\n",
       "      <td>38.2</td>\n",
       "      <td>3.7</td>\n",
       "      <td>13.8</td>\n",
       "      <td>7.6</td>\n",
       "    </tr>\n",
       "    <tr>\n",
       "      <th>197</th>\n",
       "      <td>94.2</td>\n",
       "      <td>4.9</td>\n",
       "      <td>8.1</td>\n",
       "      <td>9.7</td>\n",
       "    </tr>\n",
       "    <tr>\n",
       "      <th>198</th>\n",
       "      <td>177.0</td>\n",
       "      <td>9.3</td>\n",
       "      <td>6.4</td>\n",
       "      <td>12.8</td>\n",
       "    </tr>\n",
       "    <tr>\n",
       "      <th>199</th>\n",
       "      <td>283.6</td>\n",
       "      <td>42.0</td>\n",
       "      <td>66.2</td>\n",
       "      <td>25.5</td>\n",
       "    </tr>\n",
       "    <tr>\n",
       "      <th>200</th>\n",
       "      <td>232.1</td>\n",
       "      <td>8.6</td>\n",
       "      <td>8.7</td>\n",
       "      <td>13.4</td>\n",
       "    </tr>\n",
       "  </tbody>\n",
       "</table>\n",
       "</div>"
      ],
      "text/plain": [
       "               TV  radio  newspaper  sales\n",
       "Unnamed: 0                                \n",
       "196          38.2    3.7       13.8    7.6\n",
       "197          94.2    4.9        8.1    9.7\n",
       "198         177.0    9.3        6.4   12.8\n",
       "199         283.6   42.0       66.2   25.5\n",
       "200         232.1    8.6        8.7   13.4"
      ]
     },
     "execution_count": 8,
     "metadata": {},
     "output_type": "execute_result"
    }
   ],
   "source": [
    "df.tail()"
   ]
  },
  {
   "cell_type": "code",
   "execution_count": 9,
   "metadata": {},
   "outputs": [
    {
     "data": {
      "text/html": [
       "<div>\n",
       "<style scoped>\n",
       "    .dataframe tbody tr th:only-of-type {\n",
       "        vertical-align: middle;\n",
       "    }\n",
       "\n",
       "    .dataframe tbody tr th {\n",
       "        vertical-align: top;\n",
       "    }\n",
       "\n",
       "    .dataframe thead th {\n",
       "        text-align: right;\n",
       "    }\n",
       "</style>\n",
       "<table border=\"1\" class=\"dataframe\">\n",
       "  <thead>\n",
       "    <tr style=\"text-align: right;\">\n",
       "      <th></th>\n",
       "      <th>TV</th>\n",
       "      <th>radio</th>\n",
       "      <th>newspaper</th>\n",
       "      <th>sales</th>\n",
       "    </tr>\n",
       "  </thead>\n",
       "  <tbody>\n",
       "    <tr>\n",
       "      <th>count</th>\n",
       "      <td>200.000000</td>\n",
       "      <td>200.000000</td>\n",
       "      <td>200.000000</td>\n",
       "      <td>200.000000</td>\n",
       "    </tr>\n",
       "    <tr>\n",
       "      <th>mean</th>\n",
       "      <td>147.042500</td>\n",
       "      <td>23.264000</td>\n",
       "      <td>30.554000</td>\n",
       "      <td>14.022500</td>\n",
       "    </tr>\n",
       "    <tr>\n",
       "      <th>std</th>\n",
       "      <td>85.854236</td>\n",
       "      <td>14.846809</td>\n",
       "      <td>21.778621</td>\n",
       "      <td>5.217457</td>\n",
       "    </tr>\n",
       "    <tr>\n",
       "      <th>min</th>\n",
       "      <td>0.700000</td>\n",
       "      <td>0.000000</td>\n",
       "      <td>0.300000</td>\n",
       "      <td>1.600000</td>\n",
       "    </tr>\n",
       "    <tr>\n",
       "      <th>25%</th>\n",
       "      <td>74.375000</td>\n",
       "      <td>9.975000</td>\n",
       "      <td>12.750000</td>\n",
       "      <td>10.375000</td>\n",
       "    </tr>\n",
       "    <tr>\n",
       "      <th>50%</th>\n",
       "      <td>149.750000</td>\n",
       "      <td>22.900000</td>\n",
       "      <td>25.750000</td>\n",
       "      <td>12.900000</td>\n",
       "    </tr>\n",
       "    <tr>\n",
       "      <th>75%</th>\n",
       "      <td>218.825000</td>\n",
       "      <td>36.525000</td>\n",
       "      <td>45.100000</td>\n",
       "      <td>17.400000</td>\n",
       "    </tr>\n",
       "    <tr>\n",
       "      <th>max</th>\n",
       "      <td>296.400000</td>\n",
       "      <td>49.600000</td>\n",
       "      <td>114.000000</td>\n",
       "      <td>27.000000</td>\n",
       "    </tr>\n",
       "  </tbody>\n",
       "</table>\n",
       "</div>"
      ],
      "text/plain": [
       "               TV       radio   newspaper       sales\n",
       "count  200.000000  200.000000  200.000000  200.000000\n",
       "mean   147.042500   23.264000   30.554000   14.022500\n",
       "std     85.854236   14.846809   21.778621    5.217457\n",
       "min      0.700000    0.000000    0.300000    1.600000\n",
       "25%     74.375000    9.975000   12.750000   10.375000\n",
       "50%    149.750000   22.900000   25.750000   12.900000\n",
       "75%    218.825000   36.525000   45.100000   17.400000\n",
       "max    296.400000   49.600000  114.000000   27.000000"
      ]
     },
     "execution_count": 9,
     "metadata": {},
     "output_type": "execute_result"
    }
   ],
   "source": [
    "df.describe()"
   ]
  },
  {
   "cell_type": "code",
   "execution_count": 10,
   "metadata": {
    "scrolled": false
   },
   "outputs": [
    {
     "name": "stdout",
     "output_type": "stream",
     "text": [
      "<class 'pandas.core.frame.DataFrame'>\n",
      "Int64Index: 200 entries, 1 to 200\n",
      "Data columns (total 4 columns):\n",
      " #   Column     Non-Null Count  Dtype  \n",
      "---  ------     --------------  -----  \n",
      " 0   TV         200 non-null    float64\n",
      " 1   radio      200 non-null    float64\n",
      " 2   newspaper  200 non-null    float64\n",
      " 3   sales      200 non-null    float64\n",
      "dtypes: float64(4)\n",
      "memory usage: 7.8 KB\n"
     ]
    }
   ],
   "source": [
    "df.info()"
   ]
  },
  {
   "cell_type": "markdown",
   "metadata": {},
   "source": [
    "We can notice there is all float values in all columns..."
   ]
  },
  {
   "cell_type": "code",
   "execution_count": 11,
   "metadata": {},
   "outputs": [
    {
     "data": {
      "text/plain": [
       "TV           0\n",
       "radio        0\n",
       "newspaper    0\n",
       "sales        0\n",
       "dtype: int64"
      ]
     },
     "execution_count": 11,
     "metadata": {},
     "output_type": "execute_result"
    }
   ],
   "source": [
    "df.isnull().sum()"
   ]
  },
  {
   "cell_type": "markdown",
   "metadata": {},
   "source": [
    "There is no null values in data"
   ]
  },
  {
   "cell_type": "code",
   "execution_count": 12,
   "metadata": {},
   "outputs": [
    {
     "data": {
      "text/plain": [
       "False    199\n",
       "True       1\n",
       "Name: radio, dtype: int64"
      ]
     },
     "execution_count": 12,
     "metadata": {},
     "output_type": "execute_result"
    }
   ],
   "source": [
    "(df[\"radio\"]==0).value_counts()"
   ]
  },
  {
   "cell_type": "code",
   "execution_count": 13,
   "metadata": {},
   "outputs": [
    {
     "data": {
      "text/html": [
       "<div>\n",
       "<style scoped>\n",
       "    .dataframe tbody tr th:only-of-type {\n",
       "        vertical-align: middle;\n",
       "    }\n",
       "\n",
       "    .dataframe tbody tr th {\n",
       "        vertical-align: top;\n",
       "    }\n",
       "\n",
       "    .dataframe thead th {\n",
       "        text-align: right;\n",
       "    }\n",
       "</style>\n",
       "<table border=\"1\" class=\"dataframe\">\n",
       "  <thead>\n",
       "    <tr style=\"text-align: right;\">\n",
       "      <th></th>\n",
       "      <th>TV</th>\n",
       "      <th>radio</th>\n",
       "      <th>newspaper</th>\n",
       "      <th>sales</th>\n",
       "    </tr>\n",
       "    <tr>\n",
       "      <th>Unnamed: 0</th>\n",
       "      <th></th>\n",
       "      <th></th>\n",
       "      <th></th>\n",
       "      <th></th>\n",
       "    </tr>\n",
       "  </thead>\n",
       "  <tbody>\n",
       "    <tr>\n",
       "      <th>128</th>\n",
       "      <td>80.2</td>\n",
       "      <td>0.0</td>\n",
       "      <td>9.2</td>\n",
       "      <td>8.8</td>\n",
       "    </tr>\n",
       "  </tbody>\n",
       "</table>\n",
       "</div>"
      ],
      "text/plain": [
       "              TV  radio  newspaper  sales\n",
       "Unnamed: 0                               \n",
       "128         80.2    0.0        9.2    8.8"
      ]
     },
     "execution_count": 13,
     "metadata": {},
     "output_type": "execute_result"
    }
   ],
   "source": [
    "df.loc[df[\"radio\"]==0]"
   ]
  },
  {
   "cell_type": "markdown",
   "metadata": {},
   "source": [
    "There is one row having value 0 in radio column, not dropping it because other columns having values and shouldn't be disturbed."
   ]
  },
  {
   "cell_type": "markdown",
   "metadata": {},
   "source": [
    "# EDA - EXPLORATORY DATA ANALYSIS"
   ]
  },
  {
   "cell_type": "code",
   "execution_count": 14,
   "metadata": {},
   "outputs": [],
   "source": [
    "import seaborn as sns\n",
    "import matplotlib.pyplot as plt\n",
    "import scipy.stats \n",
    "import warnings\n",
    "warnings.filterwarnings('ignore')"
   ]
  },
  {
   "cell_type": "code",
   "execution_count": 15,
   "metadata": {},
   "outputs": [],
   "source": [
    "corr=df.corr()"
   ]
  },
  {
   "cell_type": "code",
   "execution_count": 16,
   "metadata": {},
   "outputs": [
    {
     "data": {
      "text/plain": [
       "<AxesSubplot:>"
      ]
     },
     "execution_count": 16,
     "metadata": {},
     "output_type": "execute_result"
    },
    {
     "data": {
      "image/png": "[encoded data removed]",
      "text/plain": [
       "<Figure size 432x288 with 2 Axes>"
      ]
     },
     "metadata": {
      "needs_background": "light"
     },
     "output_type": "display_data"
    }
   ],
   "source": [
    "sns.heatmap(corr, cmap=\"Accent\", annot=True, linewidth=0.3)"
   ]
  },
  {
   "cell_type": "code",
   "execution_count": 17,
   "metadata": {},
   "outputs": [
    {
     "data": {
      "text/plain": [
       "<matplotlib.collections.PathCollection at 0xe64b2ca730>"
      ]
     },
     "execution_count": 17,
     "metadata": {},
     "output_type": "execute_result"
    },
    {
     "data": {
      "image/png": "[encoded data removed]",
      "text/plain": [
       "<Figure size 432x288 with 1 Axes>"
      ]
     },
     "metadata": {
      "needs_background": "light"
     },
     "output_type": "display_data"
    }
   ],
   "source": [
    "plt.scatter(x = 'sales', y = 'TV', data = df,c='g')"
   ]
  },
  {
   "cell_type": "markdown",
   "metadata": {},
   "source": [
    "#### We can see here count around 25 TV  ads sales going upto count of 300"
   ]
  },
  {
   "cell_type": "code",
   "execution_count": 18,
   "metadata": {},
   "outputs": [
    {
     "data": {
      "text/plain": [
       "<matplotlib.collections.PathCollection at 0xe64b32cd00>"
      ]
     },
     "execution_count": 18,
     "metadata": {},
     "output_type": "execute_result"
    },
    {
     "data": {
      "image/png": "[encoded data removed]",
      "text/plain": [
       "<Figure size 432x288 with 1 Axes>"
      ]
     },
     "metadata": {
      "needs_background": "light"
     },
     "output_type": "display_data"
    }
   ],
   "source": [
    "plt.scatter(x = 'sales', y = 'radio', data = df,c='r')"
   ]
  },
  {
   "cell_type": "markdown",
   "metadata": {},
   "source": [
    "#### Here we notice with help of around 25 ads of radio sales going upto 50."
   ]
  },
  {
   "cell_type": "code",
   "execution_count": 19,
   "metadata": {},
   "outputs": [
    {
     "data": {
      "text/plain": [
       "<matplotlib.collections.PathCollection at 0xe64b37eeb0>"
      ]
     },
     "execution_count": 19,
     "metadata": {},
     "output_type": "execute_result"
    },
    {
     "data": {
      "image/png": "[encoded data removed]",
      "text/plain": [
       "<Figure size 432x288 with 1 Axes>"
      ]
     },
     "metadata": {
      "needs_background": "light"
     },
     "output_type": "display_data"
    }
   ],
   "source": [
    "plt.scatter(x = 'sales', y = 'newspaper', data = df,c='b')"
   ]
  },
  {
   "cell_type": "markdown",
   "metadata": {},
   "source": [
    "#### Here we notice around 25 ads of radio sales is spread up and down."
   ]
  },
  {
   "cell_type": "markdown",
   "metadata": {},
   "source": [
    "### Inference:\n",
    "\n",
    "- Focussing on TV Advertisement more can get more sales."
   ]
  },
  {
   "cell_type": "markdown",
   "metadata": {},
   "source": [
    "## Outliers Validation"
   ]
  },
  {
   "cell_type": "code",
   "execution_count": 20,
   "metadata": {},
   "outputs": [
    {
     "data": {
      "image/png": "[encoded data removed]",
      "text/plain": [
       "<Figure size 1080x720 with 4 Axes>"
      ]
     },
     "metadata": {
      "needs_background": "light"
     },
     "output_type": "display_data"
    }
   ],
   "source": [
    "plt.figure(figsize=(15,10))\n",
    "for o in enumerate(df):\n",
    "    plt.subplot(3,3,o[0]+1)\n",
    "    sns.boxplot(df[o[1]])"
   ]
  },
  {
   "cell_type": "markdown",
   "metadata": {},
   "source": [
    "#### We can observe here we only having outliers in \"newspaper\" column"
   ]
  },
  {
   "cell_type": "markdown",
   "metadata": {},
   "source": [
    "### Outliers removal"
   ]
  },
  {
   "cell_type": "markdown",
   "metadata": {},
   "source": [
    "#### ZSCORE METHOD"
   ]
  },
  {
   "cell_type": "code",
   "execution_count": 21,
   "metadata": {},
   "outputs": [
    {
     "name": "stdout",
     "output_type": "stream",
     "text": [
      "(array([ 16, 101], dtype=int64), array([2, 2], dtype=int64))\n"
     ]
    }
   ],
   "source": [
    "#zscore\n",
    "\n",
    "from scipy.stats import zscore\n",
    "\n",
    "z=np.abs(zscore(df))\n",
    "\n",
    "print(np.where(z>3))"
   ]
  },
  {
   "cell_type": "code",
   "execution_count": 22,
   "metadata": {},
   "outputs": [
    {
     "data": {
      "text/plain": [
       "3.8411707150992718"
      ]
     },
     "execution_count": 22,
     "metadata": {},
     "output_type": "execute_result"
    }
   ],
   "source": [
    "z[16][2]"
   ]
  },
  {
   "cell_type": "code",
   "execution_count": 23,
   "metadata": {},
   "outputs": [
    {
     "data": {
      "text/plain": [
       "3.238153957342154"
      ]
     },
     "execution_count": 23,
     "metadata": {},
     "output_type": "execute_result"
    }
   ],
   "source": [
    "z[101][2]"
   ]
  },
  {
   "cell_type": "code",
   "execution_count": 24,
   "metadata": {},
   "outputs": [
    {
     "name": "stdout",
     "output_type": "stream",
     "text": [
      "with outliers:: (200, 4)\n",
      "After removing outliers:: (198, 4)\n"
     ]
    }
   ],
   "source": [
    "df_1=df[(z<3).all(axis=1)]\n",
    "print(\"with outliers::\",df.shape)\n",
    "print(\"After removing outliers::\",df_1.shape)"
   ]
  },
  {
   "cell_type": "markdown",
   "metadata": {},
   "source": [
    "#### IQR METHOD"
   ]
  },
  {
   "cell_type": "code",
   "execution_count": 25,
   "metadata": {},
   "outputs": [
    {
     "data": {
      "text/plain": [
       "38.525"
      ]
     },
     "execution_count": 25,
     "metadata": {},
     "output_type": "execute_result"
    }
   ],
   "source": [
    "#IQR\n",
    "from scipy import stats \n",
    "IQR = stats.iqr(df) \n",
    "IQR "
   ]
  },
  {
   "cell_type": "code",
   "execution_count": 26,
   "metadata": {},
   "outputs": [],
   "source": [
    "Q1 = df.quantile(0.25)\n",
    "Q3 = df.quantile(0.75)"
   ]
  },
  {
   "cell_type": "code",
   "execution_count": 27,
   "metadata": {},
   "outputs": [
    {
     "name": "stdout",
     "output_type": "stream",
     "text": [
      "(174, 4)\n"
     ]
    }
   ],
   "source": [
    "df_out = df[~((df < (Q1 - 1.5 * IQR)) |(df > (Q3 + 1.5 * IQR))).any(axis=1)]\n",
    "print(df_out.shape)"
   ]
  },
  {
   "cell_type": "markdown",
   "metadata": {},
   "source": [
    "#### We can notice using IQR method for outliers removal there is huge data loss so considering ZSCORE METHOD "
   ]
  },
  {
   "cell_type": "code",
   "execution_count": 28,
   "metadata": {},
   "outputs": [],
   "source": [
    "df=df_1"
   ]
  },
  {
   "cell_type": "code",
   "execution_count": 29,
   "metadata": {},
   "outputs": [
    {
     "data": {
      "text/plain": [
       "(198, 4)"
      ]
     },
     "execution_count": 29,
     "metadata": {},
     "output_type": "execute_result"
    }
   ],
   "source": [
    "df.shape"
   ]
  },
  {
   "cell_type": "code",
   "execution_count": 30,
   "metadata": {},
   "outputs": [
    {
     "data": {
      "text/plain": [
       "{'whiskers': [<matplotlib.lines.Line2D at 0xe64ec5e190>,\n",
       "  <matplotlib.lines.Line2D at 0xe64ec5e4f0>],\n",
       " 'caps': [<matplotlib.lines.Line2D at 0xe64ec5e7f0>,\n",
       "  <matplotlib.lines.Line2D at 0xe64ec5eb50>],\n",
       " 'boxes': [<matplotlib.lines.Line2D at 0xe64ef8fdc0>],\n",
       " 'medians': [<matplotlib.lines.Line2D at 0xe64ec5eeb0>],\n",
       " 'fliers': [<matplotlib.lines.Line2D at 0xe64ec69250>],\n",
       " 'means': []}"
      ]
     },
     "execution_count": 30,
     "metadata": {},
     "output_type": "execute_result"
    },
    {
     "data": {
      "image/png": "[encoded data removed]",
      "text/plain": [
       "<Figure size 432x288 with 1 Axes>"
      ]
     },
     "metadata": {
      "needs_background": "light"
     },
     "output_type": "display_data"
    }
   ],
   "source": [
    "plt.boxplot(df['newspaper'])"
   ]
  },
  {
   "cell_type": "markdown",
   "metadata": {},
   "source": [
    "We can see here the outliers are removed from newspaper column"
   ]
  },
  {
   "cell_type": "markdown",
   "metadata": {},
   "source": [
    "## Skewness Validation"
   ]
  },
  {
   "cell_type": "code",
   "execution_count": 31,
   "metadata": {
    "scrolled": false
   },
   "outputs": [
    {
     "data": {
      "image/png": "[encoded data removed]",
      "text/plain": [
       "<Figure size 1080x576 with 4 Axes>"
      ]
     },
     "metadata": {
      "needs_background": "light"
     },
     "output_type": "display_data"
    }
   ],
   "source": [
    "plt.figure(figsize=(15,8))\n",
    "for i in enumerate(df):\n",
    "    plt.subplot(2,2,i[0]+1)\n",
    "    sns.distplot(df[i[1]],color='r')    "
   ]
  },
  {
   "cell_type": "code",
   "execution_count": 32,
   "metadata": {},
   "outputs": [
    {
     "data": {
      "text/plain": [
       "TV          -0.082332\n",
       "radio        0.114842\n",
       "newspaper    0.650112\n",
       "sales        0.407130\n",
       "dtype: float64"
      ]
     },
     "execution_count": 32,
     "metadata": {},
     "output_type": "execute_result"
    }
   ],
   "source": [
    "df.skew()"
   ]
  },
  {
   "cell_type": "markdown",
   "metadata": {},
   "source": [
    "We can see here there is skewness in newspaper columns"
   ]
  },
  {
   "cell_type": "code",
   "execution_count": null,
   "metadata": {},
   "outputs": [],
   "source": [
    "### Skewness removal"
   ]
  },
  {
   "cell_type": "code",
   "execution_count": 33,
   "metadata": {},
   "outputs": [],
   "source": [
    "df['newspaper']=np.sqrt(df['newspaper'])"
   ]
  },
  {
   "cell_type": "code",
   "execution_count": 34,
   "metadata": {},
   "outputs": [
    {
     "data": {
      "text/plain": [
       "TV          -0.082332\n",
       "radio        0.114842\n",
       "newspaper   -0.040649\n",
       "sales        0.407130\n",
       "dtype: float64"
      ]
     },
     "execution_count": 34,
     "metadata": {},
     "output_type": "execute_result"
    }
   ],
   "source": [
    "df.skew()"
   ]
  },
  {
   "cell_type": "markdown",
   "metadata": {},
   "source": [
    "We can see here skewness has been removed from newspaper column"
   ]
  },
  {
   "cell_type": "code",
   "execution_count": 35,
   "metadata": {},
   "outputs": [],
   "source": [
    "x=df.drop(['sales'],axis=1)\n",
    "y=df['sales']\n"
   ]
  },
  {
   "cell_type": "code",
   "execution_count": 36,
   "metadata": {},
   "outputs": [
    {
     "name": "stdout",
     "output_type": "stream",
     "text": [
      "(198, 3)\n",
      "(198,)\n"
     ]
    }
   ],
   "source": [
    "print(x.shape)\n",
    "print(y.shape)"
   ]
  },
  {
   "cell_type": "code",
   "execution_count": null,
   "metadata": {},
   "outputs": [],
   "source": [
    "#### DATA SCALING"
   ]
  },
  {
   "cell_type": "code",
   "execution_count": 37,
   "metadata": {},
   "outputs": [],
   "source": [
    "from sklearn.preprocessing import MinMaxScaler\n",
    "\n",
    "sc=MinMaxScaler()\n",
    "x=sc.fit_transform(x)"
   ]
  },
  {
   "cell_type": "code",
   "execution_count": 38,
   "metadata": {},
   "outputs": [
    {
     "data": {
      "text/html": [
       "<div>\n",
       "<style scoped>\n",
       "    .dataframe tbody tr th:only-of-type {\n",
       "        vertical-align: middle;\n",
       "    }\n",
       "\n",
       "    .dataframe tbody tr th {\n",
       "        vertical-align: top;\n",
       "    }\n",
       "\n",
       "    .dataframe thead th {\n",
       "        text-align: right;\n",
       "    }\n",
       "</style>\n",
       "<table border=\"1\" class=\"dataframe\">\n",
       "  <thead>\n",
       "    <tr style=\"text-align: right;\">\n",
       "      <th></th>\n",
       "      <th>0</th>\n",
       "      <th>1</th>\n",
       "      <th>2</th>\n",
       "    </tr>\n",
       "  </thead>\n",
       "  <tbody>\n",
       "    <tr>\n",
       "      <th>count</th>\n",
       "      <td>198.000000</td>\n",
       "      <td>198.000000</td>\n",
       "      <td>198.000000</td>\n",
       "    </tr>\n",
       "    <tr>\n",
       "      <th>mean</th>\n",
       "      <td>0.498424</td>\n",
       "      <td>0.466347</td>\n",
       "      <td>0.509620</td>\n",
       "    </tr>\n",
       "    <tr>\n",
       "      <th>std</th>\n",
       "      <td>0.291715</td>\n",
       "      <td>0.299639</td>\n",
       "      <td>0.222222</td>\n",
       "    </tr>\n",
       "    <tr>\n",
       "      <th>min</th>\n",
       "      <td>0.000000</td>\n",
       "      <td>0.000000</td>\n",
       "      <td>0.000000</td>\n",
       "    </tr>\n",
       "    <tr>\n",
       "      <th>25%</th>\n",
       "      <td>0.252987</td>\n",
       "      <td>0.200101</td>\n",
       "      <td>0.337801</td>\n",
       "    </tr>\n",
       "    <tr>\n",
       "      <th>50%</th>\n",
       "      <td>0.508877</td>\n",
       "      <td>0.451613</td>\n",
       "      <td>0.506534</td>\n",
       "    </tr>\n",
       "    <tr>\n",
       "      <th>75%</th>\n",
       "      <td>0.743513</td>\n",
       "      <td>0.732359</td>\n",
       "      <td>0.683610</td>\n",
       "    </tr>\n",
       "    <tr>\n",
       "      <th>max</th>\n",
       "      <td>1.000000</td>\n",
       "      <td>1.000000</td>\n",
       "      <td>1.000000</td>\n",
       "    </tr>\n",
       "  </tbody>\n",
       "</table>\n",
       "</div>"
      ],
      "text/plain": [
       "                0           1           2\n",
       "count  198.000000  198.000000  198.000000\n",
       "mean     0.498424    0.466347    0.509620\n",
       "std      0.291715    0.299639    0.222222\n",
       "min      0.000000    0.000000    0.000000\n",
       "25%      0.252987    0.200101    0.337801\n",
       "50%      0.508877    0.451613    0.506534\n",
       "75%      0.743513    0.732359    0.683610\n",
       "max      1.000000    1.000000    1.000000"
      ]
     },
     "execution_count": 38,
     "metadata": {},
     "output_type": "execute_result"
    }
   ],
   "source": [
    "pd.DataFrame(x).describe()"
   ]
  },
  {
   "cell_type": "code",
   "execution_count": 39,
   "metadata": {},
   "outputs": [
    {
     "data": {
      "text/plain": [
       "(198, 3)"
      ]
     },
     "execution_count": 39,
     "metadata": {},
     "output_type": "execute_result"
    }
   ],
   "source": [
    "x.shape"
   ]
  },
  {
   "cell_type": "markdown",
   "metadata": {},
   "source": [
    " # BUILDING THE MODEL:"
   ]
  },
  {
   "cell_type": "markdown",
   "metadata": {},
   "source": [
    "### Linear Regression"
   ]
  },
  {
   "cell_type": "code",
   "execution_count": 40,
   "metadata": {},
   "outputs": [],
   "source": [
    "from sklearn.metrics import mean_squared_error,mean_absolute_error\n",
    "from sklearn.metrics import r2_score\n",
    "from sklearn.model_selection import train_test_split\n",
    "from sklearn.model_selection import cross_val_score\n",
    "\n"
   ]
  },
  {
   "cell_type": "code",
   "execution_count": 41,
   "metadata": {},
   "outputs": [
    {
     "name": "stdout",
     "output_type": "stream",
     "text": [
      "At random state 0, The training accuracy is: 0.8899808679263099\n",
      "At random state 0, The test accuracy is: 0.9104353676454642\n",
      "\n",
      "\n",
      "At random state 1, The training accuracy is: 0.8945018460466634\n",
      "At random state 1, The test accuracy is: 0.8915808201402337\n",
      "\n",
      "\n",
      "At random state 2, The training accuracy is: 0.9104895320853252\n",
      "At random state 2, The test accuracy is: 0.8385093780102322\n",
      "\n",
      "\n",
      "At random state 3, The training accuracy is: 0.8945008732306111\n",
      "At random state 3, The test accuracy is: 0.8977495614063602\n",
      "\n",
      "\n",
      "At random state 4, The training accuracy is: 0.8980063011610756\n",
      "At random state 4, The test accuracy is: 0.8726744168845625\n",
      "\n",
      "\n",
      "At random state 5, The training accuracy is: 0.8993019881675023\n",
      "At random state 5, The test accuracy is: 0.8622409600064913\n",
      "\n",
      "\n",
      "At random state 6, The training accuracy is: 0.8991574664390982\n",
      "At random state 6, The test accuracy is: 0.8766949131606818\n",
      "\n",
      "\n",
      "At random state 7, The training accuracy is: 0.890944609101688\n",
      "At random state 7, The test accuracy is: 0.9063807263429217\n",
      "\n",
      "\n",
      "At random state 8, The training accuracy is: 0.9023892159093364\n",
      "At random state 8, The test accuracy is: 0.8653415977754738\n",
      "\n",
      "\n",
      "At random state 9, The training accuracy is: 0.8894121458179546\n",
      "At random state 9, The test accuracy is: 0.9151924962930182\n",
      "\n",
      "\n",
      "At random state 10, The training accuracy is: 0.9234817137067555\n",
      "At random state 10, The test accuracy is: 0.7845167673812314\n",
      "\n",
      "\n",
      "At random state 11, The training accuracy is: 0.8847579028807493\n",
      "At random state 11, The test accuracy is: 0.9259845612237145\n",
      "\n",
      "\n",
      "At random state 12, The training accuracy is: 0.8931848342049384\n",
      "At random state 12, The test accuracy is: 0.9003144586779663\n",
      "\n",
      "\n",
      "At random state 13, The training accuracy is: 0.9072955780343295\n",
      "At random state 13, The test accuracy is: 0.8382064807676585\n",
      "\n",
      "\n",
      "At random state 14, The training accuracy is: 0.8855713645648354\n",
      "At random state 14, The test accuracy is: 0.9139620728175997\n",
      "\n",
      "\n",
      "At random state 15, The training accuracy is: 0.8912146118345223\n",
      "At random state 15, The test accuracy is: 0.9079583268637836\n",
      "\n",
      "\n",
      "At random state 16, The training accuracy is: 0.8902875167485288\n",
      "At random state 16, The test accuracy is: 0.9096736262327477\n",
      "\n",
      "\n",
      "At random state 17, The training accuracy is: 0.8886354795189352\n",
      "At random state 17, The test accuracy is: 0.9172247053570081\n",
      "\n",
      "\n",
      "At random state 18, The training accuracy is: 0.910617752658842\n",
      "At random state 18, The test accuracy is: 0.8353660876793956\n",
      "\n",
      "\n",
      "At random state 19, The training accuracy is: 0.895175477993797\n",
      "At random state 19, The test accuracy is: 0.8783473492701435\n",
      "\n",
      "\n",
      "At random state 20, The training accuracy is: 0.8863601802303691\n",
      "At random state 20, The test accuracy is: 0.9130903566365755\n",
      "\n",
      "\n",
      "At random state 21, The training accuracy is: 0.884474753346419\n",
      "At random state 21, The test accuracy is: 0.9280981225653249\n",
      "\n",
      "\n",
      "At random state 22, The training accuracy is: 0.8861759776656968\n",
      "At random state 22, The test accuracy is: 0.9278015581594277\n",
      "\n",
      "\n",
      "At random state 23, The training accuracy is: 0.8848527733114713\n",
      "At random state 23, The test accuracy is: 0.9292418223308446\n",
      "\n",
      "\n",
      "At random state 24, The training accuracy is: 0.8807167144986324\n",
      "At random state 24, The test accuracy is: 0.9470588911088108\n",
      "\n",
      "\n",
      "At random state 25, The training accuracy is: 0.8828726818254514\n",
      "At random state 25, The test accuracy is: 0.9374877000743008\n",
      "\n",
      "\n",
      "At random state 26, The training accuracy is: 0.9048386945259568\n",
      "At random state 26, The test accuracy is: 0.8200205806125278\n",
      "\n",
      "\n",
      "At random state 27, The training accuracy is: 0.9093877544856235\n",
      "At random state 27, The test accuracy is: 0.82200382276998\n",
      "\n",
      "\n",
      "At random state 28, The training accuracy is: 0.9149923897944576\n",
      "At random state 28, The test accuracy is: 0.824657137233989\n",
      "\n",
      "\n",
      "At random state 29, The training accuracy is: 0.9079850559017626\n",
      "At random state 29, The test accuracy is: 0.8428721919021799\n",
      "\n",
      "\n",
      "At random state 30, The training accuracy is: 0.9124839582885386\n",
      "At random state 30, The test accuracy is: 0.8252542820487997\n",
      "\n",
      "\n",
      "At random state 31, The training accuracy is: 0.8807813164903344\n",
      "At random state 31, The test accuracy is: 0.9322410961977345\n",
      "\n",
      "\n",
      "At random state 32, The training accuracy is: 0.8878745837425007\n",
      "At random state 32, The test accuracy is: 0.9175537182776695\n",
      "\n",
      "\n",
      "At random state 33, The training accuracy is: 0.8879882989708496\n",
      "At random state 33, The test accuracy is: 0.9168810654061037\n",
      "\n",
      "\n",
      "At random state 34, The training accuracy is: 0.8963326815087106\n",
      "At random state 34, The test accuracy is: 0.8827613135562806\n",
      "\n",
      "\n",
      "At random state 35, The training accuracy is: 0.890330086541364\n",
      "At random state 35, The test accuracy is: 0.9152274156114041\n",
      "\n",
      "\n",
      "At random state 36, The training accuracy is: 0.889604776334499\n",
      "At random state 36, The test accuracy is: 0.9128607101892308\n",
      "\n",
      "\n",
      "At random state 37, The training accuracy is: 0.8928000346196905\n",
      "At random state 37, The test accuracy is: 0.908827832422178\n",
      "\n",
      "\n",
      "At random state 38, The training accuracy is: 0.8897992521999325\n",
      "At random state 38, The test accuracy is: 0.9171487919237081\n",
      "\n",
      "\n",
      "At random state 39, The training accuracy is: 0.9036070955828279\n",
      "At random state 39, The test accuracy is: 0.8557691443734091\n",
      "\n",
      "\n",
      "At random state 40, The training accuracy is: 0.8938831948100018\n",
      "At random state 40, The test accuracy is: 0.8932663650180771\n",
      "\n",
      "\n",
      "At random state 41, The training accuracy is: 0.8988787589416551\n",
      "At random state 41, The test accuracy is: 0.8664155228386854\n",
      "\n",
      "\n",
      "At random state 42, The training accuracy is: 0.8939442665762621\n",
      "At random state 42, The test accuracy is: 0.8973506561453755\n",
      "\n",
      "\n",
      "At random state 43, The training accuracy is: 0.9001636599429672\n",
      "At random state 43, The test accuracy is: 0.8753517136188681\n",
      "\n",
      "\n",
      "At random state 44, The training accuracy is: 0.9029550404208074\n",
      "At random state 44, The test accuracy is: 0.8129261407044057\n",
      "\n",
      "\n",
      "At random state 45, The training accuracy is: 0.8977442277455934\n",
      "At random state 45, The test accuracy is: 0.8752250488622103\n",
      "\n",
      "\n",
      "At random state 46, The training accuracy is: 0.8990385584067329\n",
      "At random state 46, The test accuracy is: 0.8747213040260013\n",
      "\n",
      "\n",
      "At random state 47, The training accuracy is: 0.8948665010955633\n",
      "At random state 47, The test accuracy is: 0.892241723731001\n",
      "\n",
      "\n",
      "At random state 48, The training accuracy is: 0.9015776846896191\n",
      "At random state 48, The test accuracy is: 0.86800865282321\n",
      "\n",
      "\n",
      "At random state 49, The training accuracy is: 0.9105423653107543\n",
      "At random state 49, The test accuracy is: 0.8350653342955414\n",
      "\n",
      "\n",
      "At random state 50, The training accuracy is: 0.9009852860973523\n",
      "At random state 50, The test accuracy is: 0.8423100031908731\n",
      "\n",
      "\n",
      "At random state 51, The training accuracy is: 0.8931532403468286\n",
      "At random state 51, The test accuracy is: 0.8957875198770013\n",
      "\n",
      "\n",
      "At random state 52, The training accuracy is: 0.8947509459615383\n",
      "At random state 52, The test accuracy is: 0.8925915186724517\n",
      "\n",
      "\n",
      "At random state 53, The training accuracy is: 0.904874673000394\n",
      "At random state 53, The test accuracy is: 0.8523547724792293\n",
      "\n",
      "\n",
      "At random state 54, The training accuracy is: 0.898221004570017\n",
      "At random state 54, The test accuracy is: 0.8776353009952889\n",
      "\n",
      "\n",
      "At random state 55, The training accuracy is: 0.8931964541935601\n",
      "At random state 55, The test accuracy is: 0.8987976261667096\n",
      "\n",
      "\n",
      "At random state 56, The training accuracy is: 0.9060692378798125\n",
      "At random state 56, The test accuracy is: 0.8449970932688171\n",
      "\n",
      "\n",
      "At random state 57, The training accuracy is: 0.9029895636543817\n",
      "At random state 57, The test accuracy is: 0.8659209846255534\n",
      "\n",
      "\n",
      "At random state 58, The training accuracy is: 0.8814905568092585\n",
      "At random state 58, The test accuracy is: 0.9301081927084238\n",
      "\n",
      "\n",
      "At random state 59, The training accuracy is: 0.8874616860462764\n",
      "At random state 59, The test accuracy is: 0.917710329070742\n",
      "\n",
      "\n",
      "At random state 60, The training accuracy is: 0.8983883112872219\n",
      "At random state 60, The test accuracy is: 0.88270220311797\n",
      "\n",
      "\n",
      "At random state 61, The training accuracy is: 0.9043643738374806\n",
      "At random state 61, The test accuracy is: 0.8544776294432311\n",
      "\n",
      "\n",
      "At random state 62, The training accuracy is: 0.900641456423033\n",
      "At random state 62, The test accuracy is: 0.857099369035457\n",
      "\n",
      "\n",
      "At random state 63, The training accuracy is: 0.8940434059974829\n",
      "At random state 63, The test accuracy is: 0.8964376150854272\n",
      "\n",
      "\n",
      "At random state 64, The training accuracy is: 0.886133112177135\n",
      "At random state 64, The test accuracy is: 0.9265085008144279\n",
      "\n",
      "\n",
      "At random state 65, The training accuracy is: 0.8978432738005422\n",
      "At random state 65, The test accuracy is: 0.8828637466180442\n",
      "\n",
      "\n",
      "At random state 66, The training accuracy is: 0.9001082700395925\n",
      "At random state 66, The test accuracy is: 0.876330270283092\n",
      "\n",
      "\n",
      "At random state 67, The training accuracy is: 0.8915025477235988\n",
      "At random state 67, The test accuracy is: 0.9058168794622785\n",
      "\n",
      "\n",
      "At random state 68, The training accuracy is: 0.9028493757450913\n",
      "At random state 68, The test accuracy is: 0.8641483684931222\n",
      "\n",
      "\n",
      "At random state 69, The training accuracy is: 0.8915063040754967\n",
      "At random state 69, The test accuracy is: 0.9060630749933308\n",
      "\n",
      "\n",
      "At random state 70, The training accuracy is: 0.8834039435694678\n",
      "At random state 70, The test accuracy is: 0.923287975588787\n",
      "\n",
      "\n",
      "At random state 71, The training accuracy is: 0.9093852989222346\n",
      "At random state 71, The test accuracy is: 0.8075682042626335\n",
      "\n",
      "\n",
      "At random state 72, The training accuracy is: 0.887909641380888\n",
      "At random state 72, The test accuracy is: 0.9204939440753834\n",
      "\n",
      "\n",
      "At random state 73, The training accuracy is: 0.8960910447264088\n",
      "At random state 73, The test accuracy is: 0.8848284915077834\n",
      "\n",
      "\n",
      "At random state 74, The training accuracy is: 0.8738718540420292\n",
      "At random state 74, The test accuracy is: 0.9302643275474215\n",
      "\n",
      "\n",
      "At random state 75, The training accuracy is: 0.8953946547741162\n",
      "At random state 75, The test accuracy is: 0.8756530010156299\n",
      "\n",
      "\n",
      "At random state 76, The training accuracy is: 0.9038753805919302\n",
      "At random state 76, The test accuracy is: 0.8517080643619263\n",
      "\n",
      "\n"
     ]
    },
    {
     "name": "stdout",
     "output_type": "stream",
     "text": [
      "At random state 77, The training accuracy is: 0.8889513987941758\n",
      "At random state 77, The test accuracy is: 0.9168452679704558\n",
      "\n",
      "\n",
      "At random state 78, The training accuracy is: 0.9135381248514395\n",
      "At random state 78, The test accuracy is: 0.7899873713177684\n",
      "\n",
      "\n",
      "At random state 79, The training accuracy is: 0.8920179616099255\n",
      "At random state 79, The test accuracy is: 0.9004279725235953\n",
      "\n",
      "\n",
      "At random state 80, The training accuracy is: 0.892726634902634\n",
      "At random state 80, The test accuracy is: 0.9035040850720205\n",
      "\n",
      "\n",
      "At random state 81, The training accuracy is: 0.8877972939748031\n",
      "At random state 81, The test accuracy is: 0.9199819618982278\n",
      "\n",
      "\n",
      "At random state 82, The training accuracy is: 0.9088225935331654\n",
      "At random state 82, The test accuracy is: 0.840722645720096\n",
      "\n",
      "\n",
      "At random state 83, The training accuracy is: 0.9004411052929164\n",
      "At random state 83, The test accuracy is: 0.8790442238369578\n",
      "\n",
      "\n",
      "At random state 84, The training accuracy is: 0.8837031763075623\n",
      "At random state 84, The test accuracy is: 0.9284526387270742\n",
      "\n",
      "\n",
      "At random state 85, The training accuracy is: 0.913142456288272\n",
      "At random state 85, The test accuracy is: 0.7700764934265758\n",
      "\n",
      "\n",
      "At random state 86, The training accuracy is: 0.8924092314996968\n",
      "At random state 86, The test accuracy is: 0.9056257429769183\n",
      "\n",
      "\n",
      "At random state 87, The training accuracy is: 0.9138331281311072\n",
      "At random state 87, The test accuracy is: 0.8105298937240414\n",
      "\n",
      "\n",
      "At random state 88, The training accuracy is: 0.8973336703431843\n",
      "At random state 88, The test accuracy is: 0.8836012807703079\n",
      "\n",
      "\n",
      "At random state 89, The training accuracy is: 0.9032240895674261\n",
      "At random state 89, The test accuracy is: 0.845760786461486\n",
      "\n",
      "\n",
      "At random state 90, The training accuracy is: 0.8793112686032555\n",
      "At random state 90, The test accuracy is: 0.9468304700964035\n",
      "\n",
      "\n",
      "At random state 91, The training accuracy is: 0.8927178994151133\n",
      "At random state 91, The test accuracy is: 0.8977596185481715\n",
      "\n",
      "\n",
      "At random state 92, The training accuracy is: 0.8937657169365189\n",
      "At random state 92, The test accuracy is: 0.8934151292076534\n",
      "\n",
      "\n",
      "At random state 93, The training accuracy is: 0.9081892173335392\n",
      "At random state 93, The test accuracy is: 0.8443176859670055\n",
      "\n",
      "\n",
      "At random state 94, The training accuracy is: 0.9033986835736001\n",
      "At random state 94, The test accuracy is: 0.8683982189350958\n",
      "\n",
      "\n",
      "At random state 95, The training accuracy is: 0.9081649716354206\n",
      "At random state 95, The test accuracy is: 0.8477779307074431\n",
      "\n",
      "\n",
      "At random state 96, The training accuracy is: 0.9027836209567596\n",
      "At random state 96, The test accuracy is: 0.8539094728382501\n",
      "\n",
      "\n",
      "At random state 97, The training accuracy is: 0.8943279301950892\n",
      "At random state 97, The test accuracy is: 0.8974093864265151\n",
      "\n",
      "\n",
      "At random state 98, The training accuracy is: 0.9084859758312096\n",
      "At random state 98, The test accuracy is: 0.8406615841001427\n",
      "\n",
      "\n",
      "At random state 99, The training accuracy is: 0.8832335445293644\n",
      "At random state 99, The test accuracy is: 0.9298618955109363\n",
      "\n",
      "\n"
     ]
    }
   ],
   "source": [
    "from sklearn.linear_model import LinearRegression\n",
    "\n",
    "\n",
    "LR=LinearRegression()\n",
    "\n",
    "for i in range(0,100):\n",
    "    x_train,x_test,y_train,y_test=train_test_split(x,y,test_size=0.2,random_state=i)\n",
    "    LR.fit(x_train,y_train)\n",
    "    LR_predict_train=LR.predict(x_train)\n",
    "    LR_predict_test=LR.predict(x_test)\n",
    "    print(f'At random state {i}, The training accuracy is: {r2_score(y_train,LR_predict_train)}')\n",
    "    print(f'At random state {i}, The test accuracy is: {r2_score(y_test,LR_predict_test)}')\n",
    "    print('\\n')"
   ]
  },
  {
   "cell_type": "markdown",
   "metadata": {},
   "source": [
    "random state=10 giving highest accuracy."
   ]
  },
  {
   "cell_type": "markdown",
   "metadata": {},
   "source": [
    "#### SPLITTING THE DATA WITH RANDOM STATE =10"
   ]
  },
  {
   "cell_type": "code",
   "execution_count": 90,
   "metadata": {},
   "outputs": [],
   "source": [
    "from sklearn.tree import DecisionTreeRegressor\n",
    "from sklearn.svm import SVR\n",
    "from sklearn.ensemble import RandomForestRegressor"
   ]
  },
  {
   "cell_type": "code",
   "execution_count": 91,
   "metadata": {
    "scrolled": true
   },
   "outputs": [],
   "source": [
    "dr=DecisionTreeRegressor()\n",
    "svr=SVR() \n",
    "rf=RandomForestRegressor()"
   ]
  },
  {
   "cell_type": "code",
   "execution_count": 93,
   "metadata": {},
   "outputs": [],
   "source": [
    "model=[LR,dr,svr,rf]"
   ]
  },
  {
   "cell_type": "code",
   "execution_count": 94,
   "metadata": {},
   "outputs": [
    {
     "name": "stdout",
     "output_type": "stream",
     "text": [
      "r2_score of LinearRegression() is:\n",
      "0.8715401304923547\n",
      "mean_squared_error: 3.1040739559802204\n",
      "mean_absolute_error: 1.2986366986239262\n",
      "root_mean_squared_error 1.761838232069057\n",
      "\n",
      "\n",
      "r2_score of DecisionTreeRegressor() is:\n",
      "0.9498491485471531\n",
      "mean_squared_error: 1.2118333333333335\n",
      "mean_absolute_error: 0.795\n",
      "root_mean_squared_error 1.1008330179156753\n",
      "\n",
      "\n",
      "r2_score of SVR() is:\n",
      "0.9333728730672562\n",
      "mean_squared_error: 1.6099621637978494\n",
      "mean_absolute_error: 0.6697483863853935\n",
      "root_mean_squared_error 1.2688428444050308\n",
      "\n",
      "\n",
      "r2_score of RandomForestRegressor() is:\n",
      "0.9719976068389824\n",
      "mean_squared_error: 0.6766432166666659\n",
      "mean_absolute_error: 0.5956833333333333\n",
      "root_mean_squared_error 0.8225832581974094\n",
      "\n",
      "\n"
     ]
    }
   ],
   "source": [
    "for m in model:\n",
    "    x_train,x_test,y_train,y_test=train_test_split(x,y,test_size=0.30,random_state=13)\n",
    "    m.fit(x_train,y_train)\n",
    "    predl=m.predict(x_test)\n",
    "    print('r2_score of',m,'is:')\n",
    "    print(r2_score(y_test,predl))\n",
    "    print('mean_squared_error:',mean_squared_error(y_test,predl))\n",
    "    print('mean_absolute_error:',mean_absolute_error(y_test,predl))\n",
    "    print('root_mean_squared_error',np.sqrt(mean_squared_error(y_test,predl)))\n",
    "    print('\\n')"
   ]
  },
  {
   "cell_type": "markdown",
   "metadata": {},
   "source": [
    "Cross Val Score"
   ]
  },
  {
   "cell_type": "code",
   "execution_count": 95,
   "metadata": {},
   "outputs": [],
   "source": [
    "\n",
    "from sklearn.model_selection import cross_val_score"
   ]
  },
  {
   "cell_type": "code",
   "execution_count": 97,
   "metadata": {},
   "outputs": [
    {
     "name": "stdout",
     "output_type": "stream",
     "text": [
      "LinearRegression cross_val_score: 0.8857406146589943\n"
     ]
    }
   ],
   "source": [
    "lrs=cross_val_score(LR,x,y,scoring='r2',cv=5)\n",
    "print('LinearRegression cross_val_score:',lrs.mean())"
   ]
  },
  {
   "cell_type": "code",
   "execution_count": 98,
   "metadata": {},
   "outputs": [
    {
     "name": "stdout",
     "output_type": "stream",
     "text": [
      "DecisionTreeRegressor cross_val_score: 0.9553159800519262\n"
     ]
    }
   ],
   "source": [
    "drs=cross_val_score(dr,x,y,scoring='r2',cv=5) \n",
    "print('DecisionTreeRegressor cross_val_score:',drs.mean())"
   ]
  },
  {
   "cell_type": "code",
   "execution_count": 99,
   "metadata": {},
   "outputs": [
    {
     "name": "stdout",
     "output_type": "stream",
     "text": [
      "SVR cross_val_score: 0.9140567254033132\n"
     ]
    }
   ],
   "source": [
    "svs=cross_val_score(svr,x,y,scoring='r2',cv=5)\n",
    "print('SVR cross_val_score:',svs.mean())"
   ]
  },
  {
   "cell_type": "code",
   "execution_count": 100,
   "metadata": {},
   "outputs": [
    {
     "name": "stdout",
     "output_type": "stream",
     "text": [
      "RandomforestRegressor cross_val_score: 0.9751149852819327\n"
     ]
    }
   ],
   "source": [
    "rfr=cross_val_score(rf,x,y,scoring='r2',cv=5)     \n",
    "print('RandomforestRegressor cross_val_score:',rfr.mean())"
   ]
  },
  {
   "cell_type": "markdown",
   "metadata": {},
   "source": [
    "We can see that RandomforestRegressor is performing well with 97% by doing cross-validation. We will check the best estimator. We can use Hyper Parameter Tuning."
   ]
  },
  {
   "cell_type": "markdown",
   "metadata": {},
   "source": [
    "Hyper Parameter Tuning."
   ]
  },
  {
   "cell_type": "code",
   "execution_count": 101,
   "metadata": {},
   "outputs": [],
   "source": [
    "from sklearn.model_selection import GridSearchCV"
   ]
  },
  {
   "cell_type": "code",
   "execution_count": 102,
   "metadata": {},
   "outputs": [
    {
     "name": "stdout",
     "output_type": "stream",
     "text": [
      "best_parameter: {'criterion': 'mae'}\n"
     ]
    }
   ],
   "source": [
    "grid_param={'criterion':['mse','mae']}\n",
    "gd=GridSearchCV(estimator=rf,param_grid=grid_param,scoring='r2',cv=5)\n",
    "gd.fit(x,y)\n",
    "best_parameter=gd.best_params_\n",
    "print('best_parameter:',best_parameter)"
   ]
  },
  {
   "cell_type": "code",
   "execution_count": 103,
   "metadata": {},
   "outputs": [],
   "source": [
    "gd_pred=gd.best_estimator_.predict(x_test)"
   ]
  },
  {
   "cell_type": "code",
   "execution_count": 104,
   "metadata": {},
   "outputs": [
    {
     "data": {
      "text/plain": [
       "array([12.135 , 15.182 ,  9.685 , 18.326 , 16.032 , 24.967 , 10.408 ,\n",
       "       15.902 , 12.221 , 17.181 , 17.936 ,  7.311 , 19.81  , 12.998 ,\n",
       "        9.567 , 19.644 , 12.827 , 12.076 , 14.851 , 22.2615, 11.89  ,\n",
       "        3.272 , 18.807 , 13.085 , 16.954 ,  9.474 , 11.972 , 12.319 ,\n",
       "       12.695 , 12.391 , 20.408 ,  8.932 , 13.122 ,  9.861 , 11.681 ,\n",
       "       22.4905,  8.994 , 10.232 ,  7.318 , 18.874 ,  8.876 ,  8.87  ,\n",
       "       21.9615, 11.402 , 10.462 ,  8.899 , 22.2125, 10.757 , 14.87  ,\n",
       "       13.145 , 16.912 , 18.356 , 11.183 , 14.318 , 11.217 , 21.7115,\n",
       "       15.131 , 10.898 , 22.5015, 23.2105])"
      ]
     },
     "execution_count": 104,
     "metadata": {},
     "output_type": "execute_result"
    }
   ],
   "source": [
    "gd_pred"
   ]
  },
  {
   "cell_type": "code",
   "execution_count": 105,
   "metadata": {},
   "outputs": [
    {
     "data": {
      "text/plain": [
       "0.9961940933709854"
      ]
     },
     "execution_count": 105,
     "metadata": {},
     "output_type": "execute_result"
    }
   ],
   "source": [
    "r2_score(y_test,gd_pred)"
   ]
  },
  {
   "cell_type": "markdown",
   "metadata": {},
   "source": [
    "Now we can see that after doing hyperparameter tunning the r2_score is 99% . This is our best model."
   ]
  },
  {
   "cell_type": "markdown",
   "metadata": {},
   "source": [
    "## saving the model"
   ]
  },
  {
   "cell_type": "code",
   "execution_count": 106,
   "metadata": {},
   "outputs": [],
   "source": [
    "\n",
    "import joblib"
   ]
  },
  {
   "cell_type": "code",
   "execution_count": 108,
   "metadata": {},
   "outputs": [
    {
     "data": {
      "text/plain": [
       "['Advertising Sales Channel Prediction_Project.pkl']"
      ]
     },
     "execution_count": 108,
     "metadata": {},
     "output_type": "execute_result"
    }
   ],
   "source": [
    "joblib.dump(gd.best_estimator_,'Advertising Sales Channel Prediction_Project.pkl')"
   ]
  },
  {
   "cell_type": "code",
   "execution_count": null,
   "metadata": {},
   "outputs": [],
   "source": []
  }
 ],
 "metadata": {
  "kernelspec": {
   "display_name": "Python 3",
   "language": "python",
   "name": "python3"
  },
  "language_info": {
   "codemirror_mode": {
    "name": "ipython",
    "version": 3
   },
   "file_extension": ".py",
   "mimetype": "text/x-python",
   "name": "python",
   "nbconvert_exporter": "python",
   "pygments_lexer": "ipython3",
   "version": "3.8.5"
  }
 },
 "nbformat": 4,
 "nbformat_minor": 4
}
