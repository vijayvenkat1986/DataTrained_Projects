{
 "cells": [
  {
   "cell_type": "markdown",
   "metadata": {},
   "source": [
    "Importing necessary libraries"
   ]
  },
  {
   "cell_type": "code",
   "execution_count": 66,
   "metadata": {},
   "outputs": [],
   "source": [
    "import numpy as np\n",
    "import pandas as pd\n",
    "import seaborn as sns\n",
    "import matplotlib.pyplot as plt\n",
    "import sklearn\n",
    "%matplotlib inline\n",
    "import warnings\n",
    "warnings.filterwarnings('ignore')\n",
    "from sklearn.metrics import mean_absolute_error\n",
    "from sklearn.metrics import mean_squared_error\n",
    "from sklearn.metrics import r2_score\n",
    "from sklearn.model_selection import train_test_split\n",
    "from sklearn.model_selection import cross_val_score\n",
    "from scipy.stats import zscore\n",
    "from sklearn.preprocessing import LabelEncoder\n",
    "from sklearn.preprocessing import StandardScaler\n",
    "from sklearn.metrics import roc_auc_score\n",
    "from sklearn.tree import DecisionTreeClassifier\n",
    "from sklearn.ensemble import GradientBoostingClassifier\n",
    "from sklearn.neighbors import KNeighborsClassifier\n",
    "from sklearn.model_selection import GridSearchCV\n",
    "from sklearn.metrics import confusion_matrix\n",
    "from sklearn.metrics import classification_report"
   ]
  },
  {
   "cell_type": "code",
   "execution_count": 6,
   "metadata": {
    "scrolled": true
   },
   "outputs": [
    {
     "data": {
      "text/html": [
       "<div>\n",
       "<style scoped>\n",
       "    .dataframe tbody tr th:only-of-type {\n",
       "        vertical-align: middle;\n",
       "    }\n",
       "\n",
       "    .dataframe tbody tr th {\n",
       "        vertical-align: top;\n",
       "    }\n",
       "\n",
       "    .dataframe thead th {\n",
       "        text-align: right;\n",
       "    }\n",
       "</style>\n",
       "<table border=\"1\" class=\"dataframe\">\n",
       "  <thead>\n",
       "    <tr style=\"text-align: right;\">\n",
       "      <th></th>\n",
       "      <th>fixed acidity</th>\n",
       "      <th>volatile acidity</th>\n",
       "      <th>citric acid</th>\n",
       "      <th>residual sugar</th>\n",
       "      <th>chlorides</th>\n",
       "      <th>free sulfur dioxide</th>\n",
       "      <th>total sulfur dioxide</th>\n",
       "      <th>density</th>\n",
       "      <th>pH</th>\n",
       "      <th>sulphates</th>\n",
       "      <th>alcohol</th>\n",
       "      <th>quality</th>\n",
       "    </tr>\n",
       "  </thead>\n",
       "  <tbody>\n",
       "    <tr>\n",
       "      <th>0</th>\n",
       "      <td>7.4</td>\n",
       "      <td>0.700</td>\n",
       "      <td>0.00</td>\n",
       "      <td>1.9</td>\n",
       "      <td>0.076</td>\n",
       "      <td>11.0</td>\n",
       "      <td>34.0</td>\n",
       "      <td>0.99780</td>\n",
       "      <td>3.51</td>\n",
       "      <td>0.56</td>\n",
       "      <td>9.4</td>\n",
       "      <td>5</td>\n",
       "    </tr>\n",
       "    <tr>\n",
       "      <th>1</th>\n",
       "      <td>7.8</td>\n",
       "      <td>0.880</td>\n",
       "      <td>0.00</td>\n",
       "      <td>2.6</td>\n",
       "      <td>0.098</td>\n",
       "      <td>25.0</td>\n",
       "      <td>67.0</td>\n",
       "      <td>0.99680</td>\n",
       "      <td>3.20</td>\n",
       "      <td>0.68</td>\n",
       "      <td>9.8</td>\n",
       "      <td>5</td>\n",
       "    </tr>\n",
       "    <tr>\n",
       "      <th>2</th>\n",
       "      <td>7.8</td>\n",
       "      <td>0.760</td>\n",
       "      <td>0.04</td>\n",
       "      <td>2.3</td>\n",
       "      <td>0.092</td>\n",
       "      <td>15.0</td>\n",
       "      <td>54.0</td>\n",
       "      <td>0.99700</td>\n",
       "      <td>3.26</td>\n",
       "      <td>0.65</td>\n",
       "      <td>9.8</td>\n",
       "      <td>5</td>\n",
       "    </tr>\n",
       "    <tr>\n",
       "      <th>3</th>\n",
       "      <td>11.2</td>\n",
       "      <td>0.280</td>\n",
       "      <td>0.56</td>\n",
       "      <td>1.9</td>\n",
       "      <td>0.075</td>\n",
       "      <td>17.0</td>\n",
       "      <td>60.0</td>\n",
       "      <td>0.99800</td>\n",
       "      <td>3.16</td>\n",
       "      <td>0.58</td>\n",
       "      <td>9.8</td>\n",
       "      <td>6</td>\n",
       "    </tr>\n",
       "    <tr>\n",
       "      <th>4</th>\n",
       "      <td>7.4</td>\n",
       "      <td>0.700</td>\n",
       "      <td>0.00</td>\n",
       "      <td>1.9</td>\n",
       "      <td>0.076</td>\n",
       "      <td>11.0</td>\n",
       "      <td>34.0</td>\n",
       "      <td>0.99780</td>\n",
       "      <td>3.51</td>\n",
       "      <td>0.56</td>\n",
       "      <td>9.4</td>\n",
       "      <td>5</td>\n",
       "    </tr>\n",
       "    <tr>\n",
       "      <th>...</th>\n",
       "      <td>...</td>\n",
       "      <td>...</td>\n",
       "      <td>...</td>\n",
       "      <td>...</td>\n",
       "      <td>...</td>\n",
       "      <td>...</td>\n",
       "      <td>...</td>\n",
       "      <td>...</td>\n",
       "      <td>...</td>\n",
       "      <td>...</td>\n",
       "      <td>...</td>\n",
       "      <td>...</td>\n",
       "    </tr>\n",
       "    <tr>\n",
       "      <th>1594</th>\n",
       "      <td>6.2</td>\n",
       "      <td>0.600</td>\n",
       "      <td>0.08</td>\n",
       "      <td>2.0</td>\n",
       "      <td>0.090</td>\n",
       "      <td>32.0</td>\n",
       "      <td>44.0</td>\n",
       "      <td>0.99490</td>\n",
       "      <td>3.45</td>\n",
       "      <td>0.58</td>\n",
       "      <td>10.5</td>\n",
       "      <td>5</td>\n",
       "    </tr>\n",
       "    <tr>\n",
       "      <th>1595</th>\n",
       "      <td>5.9</td>\n",
       "      <td>0.550</td>\n",
       "      <td>0.10</td>\n",
       "      <td>2.2</td>\n",
       "      <td>0.062</td>\n",
       "      <td>39.0</td>\n",
       "      <td>51.0</td>\n",
       "      <td>0.99512</td>\n",
       "      <td>3.52</td>\n",
       "      <td>0.76</td>\n",
       "      <td>11.2</td>\n",
       "      <td>6</td>\n",
       "    </tr>\n",
       "    <tr>\n",
       "      <th>1596</th>\n",
       "      <td>6.3</td>\n",
       "      <td>0.510</td>\n",
       "      <td>0.13</td>\n",
       "      <td>2.3</td>\n",
       "      <td>0.076</td>\n",
       "      <td>29.0</td>\n",
       "      <td>40.0</td>\n",
       "      <td>0.99574</td>\n",
       "      <td>3.42</td>\n",
       "      <td>0.75</td>\n",
       "      <td>11.0</td>\n",
       "      <td>6</td>\n",
       "    </tr>\n",
       "    <tr>\n",
       "      <th>1597</th>\n",
       "      <td>5.9</td>\n",
       "      <td>0.645</td>\n",
       "      <td>0.12</td>\n",
       "      <td>2.0</td>\n",
       "      <td>0.075</td>\n",
       "      <td>32.0</td>\n",
       "      <td>44.0</td>\n",
       "      <td>0.99547</td>\n",
       "      <td>3.57</td>\n",
       "      <td>0.71</td>\n",
       "      <td>10.2</td>\n",
       "      <td>5</td>\n",
       "    </tr>\n",
       "    <tr>\n",
       "      <th>1598</th>\n",
       "      <td>6.0</td>\n",
       "      <td>0.310</td>\n",
       "      <td>0.47</td>\n",
       "      <td>3.6</td>\n",
       "      <td>0.067</td>\n",
       "      <td>18.0</td>\n",
       "      <td>42.0</td>\n",
       "      <td>0.99549</td>\n",
       "      <td>3.39</td>\n",
       "      <td>0.66</td>\n",
       "      <td>11.0</td>\n",
       "      <td>6</td>\n",
       "    </tr>\n",
       "  </tbody>\n",
       "</table>\n",
       "<p>1599 rows × 12 columns</p>\n",
       "</div>"
      ],
      "text/plain": [
       "      fixed acidity  volatile acidity  citric acid  residual sugar  chlorides  \\\n",
       "0               7.4             0.700         0.00             1.9      0.076   \n",
       "1               7.8             0.880         0.00             2.6      0.098   \n",
       "2               7.8             0.760         0.04             2.3      0.092   \n",
       "3              11.2             0.280         0.56             1.9      0.075   \n",
       "4               7.4             0.700         0.00             1.9      0.076   \n",
       "...             ...               ...          ...             ...        ...   \n",
       "1594            6.2             0.600         0.08             2.0      0.090   \n",
       "1595            5.9             0.550         0.10             2.2      0.062   \n",
       "1596            6.3             0.510         0.13             2.3      0.076   \n",
       "1597            5.9             0.645         0.12             2.0      0.075   \n",
       "1598            6.0             0.310         0.47             3.6      0.067   \n",
       "\n",
       "      free sulfur dioxide  total sulfur dioxide  density    pH  sulphates  \\\n",
       "0                    11.0                  34.0  0.99780  3.51       0.56   \n",
       "1                    25.0                  67.0  0.99680  3.20       0.68   \n",
       "2                    15.0                  54.0  0.99700  3.26       0.65   \n",
       "3                    17.0                  60.0  0.99800  3.16       0.58   \n",
       "4                    11.0                  34.0  0.99780  3.51       0.56   \n",
       "...                   ...                   ...      ...   ...        ...   \n",
       "1594                 32.0                  44.0  0.99490  3.45       0.58   \n",
       "1595                 39.0                  51.0  0.99512  3.52       0.76   \n",
       "1596                 29.0                  40.0  0.99574  3.42       0.75   \n",
       "1597                 32.0                  44.0  0.99547  3.57       0.71   \n",
       "1598                 18.0                  42.0  0.99549  3.39       0.66   \n",
       "\n",
       "      alcohol  quality  \n",
       "0         9.4        5  \n",
       "1         9.8        5  \n",
       "2         9.8        5  \n",
       "3         9.8        6  \n",
       "4         9.4        5  \n",
       "...       ...      ...  \n",
       "1594     10.5        5  \n",
       "1595     11.2        6  \n",
       "1596     11.0        6  \n",
       "1597     10.2        5  \n",
       "1598     11.0        6  \n",
       "\n",
       "[1599 rows x 12 columns]"
      ]
     },
     "execution_count": 6,
     "metadata": {},
     "output_type": "execute_result"
    }
   ],
   "source": [
    "df=pd.read_csv('C:\\\\Users\\\\Admin\\\\Downloads\\\\Datatrained Projects\\\\winequality-red.csv')\n",
    "df"
   ]
  },
  {
   "cell_type": "code",
   "execution_count": 8,
   "metadata": {},
   "outputs": [
    {
     "data": {
      "text/plain": [
       "fixed acidity           float64\n",
       "volatile acidity        float64\n",
       "citric acid             float64\n",
       "residual sugar          float64\n",
       "chlorides               float64\n",
       "free sulfur dioxide     float64\n",
       "total sulfur dioxide    float64\n",
       "density                 float64\n",
       "pH                      float64\n",
       "sulphates               float64\n",
       "alcohol                 float64\n",
       "quality                   int64\n",
       "dtype: object"
      ]
     },
     "execution_count": 8,
     "metadata": {},
     "output_type": "execute_result"
    }
   ],
   "source": [
    "#Check the data types\n",
    "df.dtypes"
   ]
  },
  {
   "cell_type": "code",
   "execution_count": 9,
   "metadata": {
    "scrolled": true
   },
   "outputs": [
    {
     "data": {
      "text/html": [
       "<div>\n",
       "<style scoped>\n",
       "    .dataframe tbody tr th:only-of-type {\n",
       "        vertical-align: middle;\n",
       "    }\n",
       "\n",
       "    .dataframe tbody tr th {\n",
       "        vertical-align: top;\n",
       "    }\n",
       "\n",
       "    .dataframe thead th {\n",
       "        text-align: right;\n",
       "    }\n",
       "</style>\n",
       "<table border=\"1\" class=\"dataframe\">\n",
       "  <thead>\n",
       "    <tr style=\"text-align: right;\">\n",
       "      <th></th>\n",
       "      <th>fixed acidity</th>\n",
       "      <th>volatile acidity</th>\n",
       "      <th>citric acid</th>\n",
       "      <th>residual sugar</th>\n",
       "      <th>chlorides</th>\n",
       "      <th>free sulfur dioxide</th>\n",
       "      <th>total sulfur dioxide</th>\n",
       "      <th>density</th>\n",
       "      <th>pH</th>\n",
       "      <th>sulphates</th>\n",
       "      <th>alcohol</th>\n",
       "      <th>quality</th>\n",
       "    </tr>\n",
       "  </thead>\n",
       "  <tbody>\n",
       "    <tr>\n",
       "      <th>count</th>\n",
       "      <td>1599.000000</td>\n",
       "      <td>1599.000000</td>\n",
       "      <td>1599.000000</td>\n",
       "      <td>1599.000000</td>\n",
       "      <td>1599.000000</td>\n",
       "      <td>1599.000000</td>\n",
       "      <td>1599.000000</td>\n",
       "      <td>1599.000000</td>\n",
       "      <td>1599.000000</td>\n",
       "      <td>1599.000000</td>\n",
       "      <td>1599.000000</td>\n",
       "      <td>1599.000000</td>\n",
       "    </tr>\n",
       "    <tr>\n",
       "      <th>mean</th>\n",
       "      <td>8.319637</td>\n",
       "      <td>0.527821</td>\n",
       "      <td>0.270976</td>\n",
       "      <td>2.538806</td>\n",
       "      <td>0.087467</td>\n",
       "      <td>15.874922</td>\n",
       "      <td>46.467792</td>\n",
       "      <td>0.996747</td>\n",
       "      <td>3.311113</td>\n",
       "      <td>0.658149</td>\n",
       "      <td>10.422983</td>\n",
       "      <td>5.636023</td>\n",
       "    </tr>\n",
       "    <tr>\n",
       "      <th>std</th>\n",
       "      <td>1.741096</td>\n",
       "      <td>0.179060</td>\n",
       "      <td>0.194801</td>\n",
       "      <td>1.409928</td>\n",
       "      <td>0.047065</td>\n",
       "      <td>10.460157</td>\n",
       "      <td>32.895324</td>\n",
       "      <td>0.001887</td>\n",
       "      <td>0.154386</td>\n",
       "      <td>0.169507</td>\n",
       "      <td>1.065668</td>\n",
       "      <td>0.807569</td>\n",
       "    </tr>\n",
       "    <tr>\n",
       "      <th>min</th>\n",
       "      <td>4.600000</td>\n",
       "      <td>0.120000</td>\n",
       "      <td>0.000000</td>\n",
       "      <td>0.900000</td>\n",
       "      <td>0.012000</td>\n",
       "      <td>1.000000</td>\n",
       "      <td>6.000000</td>\n",
       "      <td>0.990070</td>\n",
       "      <td>2.740000</td>\n",
       "      <td>0.330000</td>\n",
       "      <td>8.400000</td>\n",
       "      <td>3.000000</td>\n",
       "    </tr>\n",
       "    <tr>\n",
       "      <th>25%</th>\n",
       "      <td>7.100000</td>\n",
       "      <td>0.390000</td>\n",
       "      <td>0.090000</td>\n",
       "      <td>1.900000</td>\n",
       "      <td>0.070000</td>\n",
       "      <td>7.000000</td>\n",
       "      <td>22.000000</td>\n",
       "      <td>0.995600</td>\n",
       "      <td>3.210000</td>\n",
       "      <td>0.550000</td>\n",
       "      <td>9.500000</td>\n",
       "      <td>5.000000</td>\n",
       "    </tr>\n",
       "    <tr>\n",
       "      <th>50%</th>\n",
       "      <td>7.900000</td>\n",
       "      <td>0.520000</td>\n",
       "      <td>0.260000</td>\n",
       "      <td>2.200000</td>\n",
       "      <td>0.079000</td>\n",
       "      <td>14.000000</td>\n",
       "      <td>38.000000</td>\n",
       "      <td>0.996750</td>\n",
       "      <td>3.310000</td>\n",
       "      <td>0.620000</td>\n",
       "      <td>10.200000</td>\n",
       "      <td>6.000000</td>\n",
       "    </tr>\n",
       "    <tr>\n",
       "      <th>75%</th>\n",
       "      <td>9.200000</td>\n",
       "      <td>0.640000</td>\n",
       "      <td>0.420000</td>\n",
       "      <td>2.600000</td>\n",
       "      <td>0.090000</td>\n",
       "      <td>21.000000</td>\n",
       "      <td>62.000000</td>\n",
       "      <td>0.997835</td>\n",
       "      <td>3.400000</td>\n",
       "      <td>0.730000</td>\n",
       "      <td>11.100000</td>\n",
       "      <td>6.000000</td>\n",
       "    </tr>\n",
       "    <tr>\n",
       "      <th>max</th>\n",
       "      <td>15.900000</td>\n",
       "      <td>1.580000</td>\n",
       "      <td>1.000000</td>\n",
       "      <td>15.500000</td>\n",
       "      <td>0.611000</td>\n",
       "      <td>72.000000</td>\n",
       "      <td>289.000000</td>\n",
       "      <td>1.003690</td>\n",
       "      <td>4.010000</td>\n",
       "      <td>2.000000</td>\n",
       "      <td>14.900000</td>\n",
       "      <td>8.000000</td>\n",
       "    </tr>\n",
       "  </tbody>\n",
       "</table>\n",
       "</div>"
      ],
      "text/plain": [
       "       fixed acidity  volatile acidity  citric acid  residual sugar  \\\n",
       "count    1599.000000       1599.000000  1599.000000     1599.000000   \n",
       "mean        8.319637          0.527821     0.270976        2.538806   \n",
       "std         1.741096          0.179060     0.194801        1.409928   \n",
       "min         4.600000          0.120000     0.000000        0.900000   \n",
       "25%         7.100000          0.390000     0.090000        1.900000   \n",
       "50%         7.900000          0.520000     0.260000        2.200000   \n",
       "75%         9.200000          0.640000     0.420000        2.600000   \n",
       "max        15.900000          1.580000     1.000000       15.500000   \n",
       "\n",
       "         chlorides  free sulfur dioxide  total sulfur dioxide      density  \\\n",
       "count  1599.000000          1599.000000           1599.000000  1599.000000   \n",
       "mean      0.087467            15.874922             46.467792     0.996747   \n",
       "std       0.047065            10.460157             32.895324     0.001887   \n",
       "min       0.012000             1.000000              6.000000     0.990070   \n",
       "25%       0.070000             7.000000             22.000000     0.995600   \n",
       "50%       0.079000            14.000000             38.000000     0.996750   \n",
       "75%       0.090000            21.000000             62.000000     0.997835   \n",
       "max       0.611000            72.000000            289.000000     1.003690   \n",
       "\n",
       "                pH    sulphates      alcohol      quality  \n",
       "count  1599.000000  1599.000000  1599.000000  1599.000000  \n",
       "mean      3.311113     0.658149    10.422983     5.636023  \n",
       "std       0.154386     0.169507     1.065668     0.807569  \n",
       "min       2.740000     0.330000     8.400000     3.000000  \n",
       "25%       3.210000     0.550000     9.500000     5.000000  \n",
       "50%       3.310000     0.620000    10.200000     6.000000  \n",
       "75%       3.400000     0.730000    11.100000     6.000000  \n",
       "max       4.010000     2.000000    14.900000     8.000000  "
      ]
     },
     "execution_count": 9,
     "metadata": {},
     "output_type": "execute_result"
    }
   ],
   "source": [
    "#Describing the data\n",
    "df.describe()"
   ]
  },
  {
   "cell_type": "code",
   "execution_count": 10,
   "metadata": {
    "scrolled": true
   },
   "outputs": [
    {
     "name": "stdout",
     "output_type": "stream",
     "text": [
      "<class 'pandas.core.frame.DataFrame'>\n",
      "RangeIndex: 1599 entries, 0 to 1598\n",
      "Data columns (total 12 columns):\n",
      " #   Column                Non-Null Count  Dtype  \n",
      "---  ------                --------------  -----  \n",
      " 0   fixed acidity         1599 non-null   float64\n",
      " 1   volatile acidity      1599 non-null   float64\n",
      " 2   citric acid           1599 non-null   float64\n",
      " 3   residual sugar        1599 non-null   float64\n",
      " 4   chlorides             1599 non-null   float64\n",
      " 5   free sulfur dioxide   1599 non-null   float64\n",
      " 6   total sulfur dioxide  1599 non-null   float64\n",
      " 7   density               1599 non-null   float64\n",
      " 8   pH                    1599 non-null   float64\n",
      " 9   sulphates             1599 non-null   float64\n",
      " 10  alcohol               1599 non-null   float64\n",
      " 11  quality               1599 non-null   int64  \n",
      "dtypes: float64(11), int64(1)\n",
      "memory usage: 150.0 KB\n"
     ]
    }
   ],
   "source": [
    "#Check the info\n",
    "df.info()"
   ]
  },
  {
   "cell_type": "code",
   "execution_count": 11,
   "metadata": {},
   "outputs": [
    {
     "data": {
      "text/plain": [
       "(1599, 12)"
      ]
     },
     "execution_count": 11,
     "metadata": {},
     "output_type": "execute_result"
    }
   ],
   "source": [
    "#Check the shape of dataset - Columns and Rows\n",
    "df.shape"
   ]
  },
  {
   "cell_type": "code",
   "execution_count": 12,
   "metadata": {},
   "outputs": [
    {
     "data": {
      "text/plain": [
       "<AxesSubplot:>"
      ]
     },
     "execution_count": 12,
     "metadata": {},
     "output_type": "execute_result"
    },
    {
     "data": {
      "image/png": "[encoded data removed]",
      "text/plain": [
       "<Figure size 432x288 with 2 Axes>"
      ]
     },
     "metadata": {
      "needs_background": "light"
     },
     "output_type": "display_data"
    }
   ],
   "source": [
    "#Check the null value\n",
    "sns.heatmap(df.isnull())"
   ]
  },
  {
   "cell_type": "code",
   "execution_count": 13,
   "metadata": {},
   "outputs": [
    {
     "data": {
      "text/plain": [
       "<AxesSubplot:xlabel='quality', ylabel='alcohol'>"
      ]
     },
     "execution_count": 13,
     "metadata": {},
     "output_type": "execute_result"
    },
    {
     "data": {
      "image/png": "[encoded data removed]",
      "text/plain": [
       "<Figure size 432x288 with 1 Axes>"
      ]
     },
     "metadata": {
      "needs_background": "light"
     },
     "output_type": "display_data"
    }
   ],
   "source": [
    "#Check with barplot - Quality impact\n",
    "sns.barplot(x=\"quality\",y=\"alcohol\",data=df)"
   ]
  },
  {
   "cell_type": "code",
   "execution_count": 14,
   "metadata": {},
   "outputs": [
    {
     "data": {
      "text/plain": [
       "<AxesSubplot:xlabel='quality', ylabel='count'>"
      ]
     },
     "execution_count": 14,
     "metadata": {},
     "output_type": "execute_result"
    },
    {
     "data": {
      "image/png": "[encoded data removed]",
      "text/plain": [
       "<Figure size 432x288 with 1 Axes>"
      ]
     },
     "metadata": {
      "needs_background": "light"
     },
     "output_type": "display_data"
    }
   ],
   "source": [
    "#Quality Visualization\n",
    "sns.countplot(x=\"quality\",data=df)"
   ]
  },
  {
   "cell_type": "code",
   "execution_count": 19,
   "metadata": {},
   "outputs": [
    {
     "data": {
      "text/plain": [
       "<AxesSubplot:xlabel='quality', ylabel='pH'>"
      ]
     },
     "execution_count": 19,
     "metadata": {},
     "output_type": "execute_result"
    },
    {
     "data": {
      "image/png": "[encoded data removed]",
      "text/plain": [
       "<Figure size 432x288 with 1 Axes>"
      ]
     },
     "metadata": {
      "needs_background": "light"
     },
     "output_type": "display_data"
    }
   ],
   "source": [
    "#PH Impact on quality\n",
    "sns.barplot(x=\"quality\",y=\"pH\",data=df)"
   ]
  },
  {
   "cell_type": "code",
   "execution_count": 16,
   "metadata": {
    "scrolled": true
   },
   "outputs": [
    {
     "data": {
      "text/plain": [
       "<AxesSubplot:xlabel='quality', ylabel='residual sugar'>"
      ]
     },
     "execution_count": 16,
     "metadata": {},
     "output_type": "execute_result"
    },
    {
     "data": {
      "image/png": "[encoded data removed]",
      "text/plain": [
       "<Figure size 432x288 with 1 Axes>"
      ]
     },
     "metadata": {
      "needs_background": "light"
     },
     "output_type": "display_data"
    }
   ],
   "source": [
    "sns.violinplot(x=\"quality\",y=\"residual sugar\",data=df)"
   ]
  },
  {
   "cell_type": "code",
   "execution_count": 20,
   "metadata": {
    "scrolled": true
   },
   "outputs": [
    {
     "data": {
      "text/plain": [
       "<AxesSubplot:>"
      ]
     },
     "execution_count": 20,
     "metadata": {},
     "output_type": "execute_result"
    },
    {
     "data": {
      "image/png": "[encoded data removed]",
      "text/plain": [
       "<Figure size 432x288 with 2 Axes>"
      ]
     },
     "metadata": {
      "needs_background": "light"
     },
     "output_type": "display_data"
    }
   ],
   "source": [
    "#Correlation of columns with heatmap\n",
    "sns.heatmap(df.corr(),annot=True)"
   ]
  },
  {
   "cell_type": "code",
   "execution_count": 21,
   "metadata": {},
   "outputs": [],
   "source": [
    "#Drop the volatile acidity column due to highly -ve correlation\n",
    "df.drop('volatile acidity',axis=1,inplace=True)"
   ]
  },
  {
   "cell_type": "code",
   "execution_count": 22,
   "metadata": {},
   "outputs": [
    {
     "data": {
      "text/plain": [
       "<AxesSubplot:>"
      ]
     },
     "execution_count": 22,
     "metadata": {},
     "output_type": "execute_result"
    },
    {
     "data": {
      "image/png": "[encoded data removed]",
      "text/plain": [
       "<Figure size 432x288 with 1 Axes>"
      ]
     },
     "metadata": {
      "needs_background": "light"
     },
     "output_type": "display_data"
    }
   ],
   "source": [
    "#Validate the Outlier with boxplot\n",
    "df.boxplot()"
   ]
  },
  {
   "cell_type": "code",
   "execution_count": 23,
   "metadata": {
    "scrolled": true
   },
   "outputs": [
    {
     "data": {
      "image/png": "[encoded data removed]",
      "text/plain": [
       "<Figure size 864x3456 with 10 Axes>"
      ]
     },
     "metadata": {
      "needs_background": "light"
     },
     "output_type": "display_data"
    }
   ],
   "source": [
    "#Visualizing each column individually with sns.subplot for getting more clearance about the outlier\n",
    "collist=df.columns.values\n",
    "ncol=12\n",
    "nrows=10\n",
    "plt.figure(figsize=(ncol,4*ncol))\n",
    "for i in range(1,len(collist)):\n",
    "    plt.subplot(nrows,ncol,i+1)\n",
    "    sns.boxplot(df[collist[i]],color='Red',orient='v')\n",
    "    plt.tight_layout()"
   ]
  },
  {
   "cell_type": "code",
   "execution_count": 25,
   "metadata": {},
   "outputs": [
    {
     "name": "stdout",
     "output_type": "stream",
     "text": [
      "(1599, 11)\n",
      "(1458, 11)\n"
     ]
    }
   ],
   "source": [
    "#Remove the outlier with zscore \n",
    "z=np.abs(zscore(df))\n",
    "print(df.shape)\n",
    "df_new=df[(z<3).all(axis=1)]\n",
    "print(df_new.shape)"
   ]
  },
  {
   "cell_type": "code",
   "execution_count": 26,
   "metadata": {},
   "outputs": [
    {
     "data": {
      "image/png": "[encoded data removed]",
      "text/plain": [
       "<Figure size 432x288 with 1 Axes>"
      ]
     },
     "metadata": {
      "needs_background": "light"
     },
     "output_type": "display_data"
    }
   ],
   "source": [
    "#Quality check after removed the outliers\n",
    "sns.countplot(x=\"quality\",data=df_new)\n",
    "plt.show()"
   ]
  },
  {
   "cell_type": "code",
   "execution_count": 28,
   "metadata": {},
   "outputs": [
    {
     "data": {
      "text/html": [
       "<div>\n",
       "<style scoped>\n",
       "    .dataframe tbody tr th:only-of-type {\n",
       "        vertical-align: middle;\n",
       "    }\n",
       "\n",
       "    .dataframe tbody tr th {\n",
       "        vertical-align: top;\n",
       "    }\n",
       "\n",
       "    .dataframe thead th {\n",
       "        text-align: right;\n",
       "    }\n",
       "</style>\n",
       "<table border=\"1\" class=\"dataframe\">\n",
       "  <thead>\n",
       "    <tr style=\"text-align: right;\">\n",
       "      <th></th>\n",
       "      <th>fixed acidity</th>\n",
       "      <th>citric acid</th>\n",
       "      <th>residual sugar</th>\n",
       "      <th>chlorides</th>\n",
       "      <th>free sulfur dioxide</th>\n",
       "      <th>total sulfur dioxide</th>\n",
       "      <th>density</th>\n",
       "      <th>pH</th>\n",
       "      <th>sulphates</th>\n",
       "      <th>alcohol</th>\n",
       "      <th>quality</th>\n",
       "    </tr>\n",
       "  </thead>\n",
       "  <tbody>\n",
       "    <tr>\n",
       "      <th>0</th>\n",
       "      <td>7.4</td>\n",
       "      <td>0.00</td>\n",
       "      <td>1.9</td>\n",
       "      <td>0.076</td>\n",
       "      <td>11.0</td>\n",
       "      <td>34.0</td>\n",
       "      <td>0.9978</td>\n",
       "      <td>3.51</td>\n",
       "      <td>0.56</td>\n",
       "      <td>9.4</td>\n",
       "      <td>5</td>\n",
       "    </tr>\n",
       "    <tr>\n",
       "      <th>1</th>\n",
       "      <td>7.8</td>\n",
       "      <td>0.00</td>\n",
       "      <td>2.6</td>\n",
       "      <td>0.098</td>\n",
       "      <td>25.0</td>\n",
       "      <td>67.0</td>\n",
       "      <td>0.9968</td>\n",
       "      <td>3.20</td>\n",
       "      <td>0.68</td>\n",
       "      <td>9.8</td>\n",
       "      <td>5</td>\n",
       "    </tr>\n",
       "    <tr>\n",
       "      <th>2</th>\n",
       "      <td>7.8</td>\n",
       "      <td>0.04</td>\n",
       "      <td>2.3</td>\n",
       "      <td>0.092</td>\n",
       "      <td>15.0</td>\n",
       "      <td>54.0</td>\n",
       "      <td>0.9970</td>\n",
       "      <td>3.26</td>\n",
       "      <td>0.65</td>\n",
       "      <td>9.8</td>\n",
       "      <td>5</td>\n",
       "    </tr>\n",
       "    <tr>\n",
       "      <th>3</th>\n",
       "      <td>11.2</td>\n",
       "      <td>0.56</td>\n",
       "      <td>1.9</td>\n",
       "      <td>0.075</td>\n",
       "      <td>17.0</td>\n",
       "      <td>60.0</td>\n",
       "      <td>0.9980</td>\n",
       "      <td>3.16</td>\n",
       "      <td>0.58</td>\n",
       "      <td>9.8</td>\n",
       "      <td>6</td>\n",
       "    </tr>\n",
       "    <tr>\n",
       "      <th>4</th>\n",
       "      <td>7.4</td>\n",
       "      <td>0.00</td>\n",
       "      <td>1.9</td>\n",
       "      <td>0.076</td>\n",
       "      <td>11.0</td>\n",
       "      <td>34.0</td>\n",
       "      <td>0.9978</td>\n",
       "      <td>3.51</td>\n",
       "      <td>0.56</td>\n",
       "      <td>9.4</td>\n",
       "      <td>5</td>\n",
       "    </tr>\n",
       "    <tr>\n",
       "      <th>5</th>\n",
       "      <td>7.4</td>\n",
       "      <td>0.00</td>\n",
       "      <td>1.8</td>\n",
       "      <td>0.075</td>\n",
       "      <td>13.0</td>\n",
       "      <td>40.0</td>\n",
       "      <td>0.9978</td>\n",
       "      <td>3.51</td>\n",
       "      <td>0.56</td>\n",
       "      <td>9.4</td>\n",
       "      <td>5</td>\n",
       "    </tr>\n",
       "    <tr>\n",
       "      <th>6</th>\n",
       "      <td>7.9</td>\n",
       "      <td>0.06</td>\n",
       "      <td>1.6</td>\n",
       "      <td>0.069</td>\n",
       "      <td>15.0</td>\n",
       "      <td>59.0</td>\n",
       "      <td>0.9964</td>\n",
       "      <td>3.30</td>\n",
       "      <td>0.46</td>\n",
       "      <td>9.4</td>\n",
       "      <td>5</td>\n",
       "    </tr>\n",
       "    <tr>\n",
       "      <th>7</th>\n",
       "      <td>7.3</td>\n",
       "      <td>0.00</td>\n",
       "      <td>1.2</td>\n",
       "      <td>0.065</td>\n",
       "      <td>15.0</td>\n",
       "      <td>21.0</td>\n",
       "      <td>0.9946</td>\n",
       "      <td>3.39</td>\n",
       "      <td>0.47</td>\n",
       "      <td>10.0</td>\n",
       "      <td>7</td>\n",
       "    </tr>\n",
       "    <tr>\n",
       "      <th>8</th>\n",
       "      <td>7.8</td>\n",
       "      <td>0.02</td>\n",
       "      <td>2.0</td>\n",
       "      <td>0.073</td>\n",
       "      <td>9.0</td>\n",
       "      <td>18.0</td>\n",
       "      <td>0.9968</td>\n",
       "      <td>3.36</td>\n",
       "      <td>0.57</td>\n",
       "      <td>9.5</td>\n",
       "      <td>7</td>\n",
       "    </tr>\n",
       "    <tr>\n",
       "      <th>9</th>\n",
       "      <td>7.5</td>\n",
       "      <td>0.36</td>\n",
       "      <td>6.1</td>\n",
       "      <td>0.071</td>\n",
       "      <td>17.0</td>\n",
       "      <td>102.0</td>\n",
       "      <td>0.9978</td>\n",
       "      <td>3.35</td>\n",
       "      <td>0.80</td>\n",
       "      <td>10.5</td>\n",
       "      <td>5</td>\n",
       "    </tr>\n",
       "    <tr>\n",
       "      <th>10</th>\n",
       "      <td>6.7</td>\n",
       "      <td>0.08</td>\n",
       "      <td>1.8</td>\n",
       "      <td>0.097</td>\n",
       "      <td>15.0</td>\n",
       "      <td>65.0</td>\n",
       "      <td>0.9959</td>\n",
       "      <td>3.28</td>\n",
       "      <td>0.54</td>\n",
       "      <td>9.2</td>\n",
       "      <td>5</td>\n",
       "    </tr>\n",
       "    <tr>\n",
       "      <th>11</th>\n",
       "      <td>7.5</td>\n",
       "      <td>0.36</td>\n",
       "      <td>6.1</td>\n",
       "      <td>0.071</td>\n",
       "      <td>17.0</td>\n",
       "      <td>102.0</td>\n",
       "      <td>0.9978</td>\n",
       "      <td>3.35</td>\n",
       "      <td>0.80</td>\n",
       "      <td>10.5</td>\n",
       "      <td>5</td>\n",
       "    </tr>\n",
       "    <tr>\n",
       "      <th>12</th>\n",
       "      <td>5.6</td>\n",
       "      <td>0.00</td>\n",
       "      <td>1.6</td>\n",
       "      <td>0.089</td>\n",
       "      <td>16.0</td>\n",
       "      <td>59.0</td>\n",
       "      <td>0.9943</td>\n",
       "      <td>3.58</td>\n",
       "      <td>0.52</td>\n",
       "      <td>9.9</td>\n",
       "      <td>5</td>\n",
       "    </tr>\n",
       "    <tr>\n",
       "      <th>13</th>\n",
       "      <td>7.8</td>\n",
       "      <td>0.29</td>\n",
       "      <td>1.6</td>\n",
       "      <td>0.114</td>\n",
       "      <td>9.0</td>\n",
       "      <td>29.0</td>\n",
       "      <td>0.9974</td>\n",
       "      <td>3.26</td>\n",
       "      <td>1.56</td>\n",
       "      <td>9.1</td>\n",
       "      <td>5</td>\n",
       "    </tr>\n",
       "    <tr>\n",
       "      <th>14</th>\n",
       "      <td>8.9</td>\n",
       "      <td>0.18</td>\n",
       "      <td>3.8</td>\n",
       "      <td>0.176</td>\n",
       "      <td>52.0</td>\n",
       "      <td>145.0</td>\n",
       "      <td>0.9986</td>\n",
       "      <td>3.16</td>\n",
       "      <td>0.88</td>\n",
       "      <td>9.2</td>\n",
       "      <td>5</td>\n",
       "    </tr>\n",
       "    <tr>\n",
       "      <th>15</th>\n",
       "      <td>8.9</td>\n",
       "      <td>0.19</td>\n",
       "      <td>3.9</td>\n",
       "      <td>0.170</td>\n",
       "      <td>51.0</td>\n",
       "      <td>148.0</td>\n",
       "      <td>0.9986</td>\n",
       "      <td>3.17</td>\n",
       "      <td>0.93</td>\n",
       "      <td>9.2</td>\n",
       "      <td>5</td>\n",
       "    </tr>\n",
       "    <tr>\n",
       "      <th>16</th>\n",
       "      <td>8.5</td>\n",
       "      <td>0.56</td>\n",
       "      <td>1.8</td>\n",
       "      <td>0.092</td>\n",
       "      <td>35.0</td>\n",
       "      <td>103.0</td>\n",
       "      <td>0.9969</td>\n",
       "      <td>3.30</td>\n",
       "      <td>0.75</td>\n",
       "      <td>10.5</td>\n",
       "      <td>7</td>\n",
       "    </tr>\n",
       "    <tr>\n",
       "      <th>17</th>\n",
       "      <td>8.1</td>\n",
       "      <td>0.28</td>\n",
       "      <td>1.7</td>\n",
       "      <td>0.368</td>\n",
       "      <td>16.0</td>\n",
       "      <td>56.0</td>\n",
       "      <td>0.9968</td>\n",
       "      <td>3.11</td>\n",
       "      <td>1.28</td>\n",
       "      <td>9.3</td>\n",
       "      <td>5</td>\n",
       "    </tr>\n",
       "    <tr>\n",
       "      <th>18</th>\n",
       "      <td>7.4</td>\n",
       "      <td>0.08</td>\n",
       "      <td>4.4</td>\n",
       "      <td>0.086</td>\n",
       "      <td>6.0</td>\n",
       "      <td>29.0</td>\n",
       "      <td>0.9974</td>\n",
       "      <td>3.38</td>\n",
       "      <td>0.50</td>\n",
       "      <td>9.0</td>\n",
       "      <td>4</td>\n",
       "    </tr>\n",
       "    <tr>\n",
       "      <th>19</th>\n",
       "      <td>7.9</td>\n",
       "      <td>0.51</td>\n",
       "      <td>1.8</td>\n",
       "      <td>0.341</td>\n",
       "      <td>17.0</td>\n",
       "      <td>56.0</td>\n",
       "      <td>0.9969</td>\n",
       "      <td>3.04</td>\n",
       "      <td>1.08</td>\n",
       "      <td>9.2</td>\n",
       "      <td>6</td>\n",
       "    </tr>\n",
       "  </tbody>\n",
       "</table>\n",
       "</div>"
      ],
      "text/plain": [
       "    fixed acidity  citric acid  residual sugar  chlorides  \\\n",
       "0             7.4         0.00             1.9      0.076   \n",
       "1             7.8         0.00             2.6      0.098   \n",
       "2             7.8         0.04             2.3      0.092   \n",
       "3            11.2         0.56             1.9      0.075   \n",
       "4             7.4         0.00             1.9      0.076   \n",
       "5             7.4         0.00             1.8      0.075   \n",
       "6             7.9         0.06             1.6      0.069   \n",
       "7             7.3         0.00             1.2      0.065   \n",
       "8             7.8         0.02             2.0      0.073   \n",
       "9             7.5         0.36             6.1      0.071   \n",
       "10            6.7         0.08             1.8      0.097   \n",
       "11            7.5         0.36             6.1      0.071   \n",
       "12            5.6         0.00             1.6      0.089   \n",
       "13            7.8         0.29             1.6      0.114   \n",
       "14            8.9         0.18             3.8      0.176   \n",
       "15            8.9         0.19             3.9      0.170   \n",
       "16            8.5         0.56             1.8      0.092   \n",
       "17            8.1         0.28             1.7      0.368   \n",
       "18            7.4         0.08             4.4      0.086   \n",
       "19            7.9         0.51             1.8      0.341   \n",
       "\n",
       "    free sulfur dioxide  total sulfur dioxide  density    pH  sulphates  \\\n",
       "0                  11.0                  34.0   0.9978  3.51       0.56   \n",
       "1                  25.0                  67.0   0.9968  3.20       0.68   \n",
       "2                  15.0                  54.0   0.9970  3.26       0.65   \n",
       "3                  17.0                  60.0   0.9980  3.16       0.58   \n",
       "4                  11.0                  34.0   0.9978  3.51       0.56   \n",
       "5                  13.0                  40.0   0.9978  3.51       0.56   \n",
       "6                  15.0                  59.0   0.9964  3.30       0.46   \n",
       "7                  15.0                  21.0   0.9946  3.39       0.47   \n",
       "8                   9.0                  18.0   0.9968  3.36       0.57   \n",
       "9                  17.0                 102.0   0.9978  3.35       0.80   \n",
       "10                 15.0                  65.0   0.9959  3.28       0.54   \n",
       "11                 17.0                 102.0   0.9978  3.35       0.80   \n",
       "12                 16.0                  59.0   0.9943  3.58       0.52   \n",
       "13                  9.0                  29.0   0.9974  3.26       1.56   \n",
       "14                 52.0                 145.0   0.9986  3.16       0.88   \n",
       "15                 51.0                 148.0   0.9986  3.17       0.93   \n",
       "16                 35.0                 103.0   0.9969  3.30       0.75   \n",
       "17                 16.0                  56.0   0.9968  3.11       1.28   \n",
       "18                  6.0                  29.0   0.9974  3.38       0.50   \n",
       "19                 17.0                  56.0   0.9969  3.04       1.08   \n",
       "\n",
       "    alcohol  quality  \n",
       "0       9.4        5  \n",
       "1       9.8        5  \n",
       "2       9.8        5  \n",
       "3       9.8        6  \n",
       "4       9.4        5  \n",
       "5       9.4        5  \n",
       "6       9.4        5  \n",
       "7      10.0        7  \n",
       "8       9.5        7  \n",
       "9      10.5        5  \n",
       "10      9.2        5  \n",
       "11     10.5        5  \n",
       "12      9.9        5  \n",
       "13      9.1        5  \n",
       "14      9.2        5  \n",
       "15      9.2        5  \n",
       "16     10.5        7  \n",
       "17      9.3        5  \n",
       "18      9.0        4  \n",
       "19      9.2        6  "
      ]
     },
     "execution_count": 28,
     "metadata": {},
     "output_type": "execute_result"
    }
   ],
   "source": [
    "#Converting target variable into binary classification problem \n",
    "df_new['quality']=df_new['quality'].replace({5:\"Bad\",6:\"Bad\",3:\"Bad\",4:\"Bad\",6.5:\"good\",7:\"Good\",8:\"Good\"})\n",
    "df.head(20)"
   ]
  },
  {
   "cell_type": "code",
   "execution_count": 29,
   "metadata": {},
   "outputs": [
    {
     "data": {
      "text/plain": [
       "<AxesSubplot:xlabel='quality', ylabel='count'>"
      ]
     },
     "execution_count": 29,
     "metadata": {},
     "output_type": "execute_result"
    },
    {
     "data": {
      "image/png": "[encoded data removed]",
      "text/plain": [
       "<Figure size 432x288 with 1 Axes>"
      ]
     },
     "metadata": {
      "needs_background": "light"
     },
     "output_type": "display_data"
    }
   ],
   "source": [
    "sns.countplot(x='quality',data=df_new)"
   ]
  },
  {
   "cell_type": "code",
   "execution_count": 30,
   "metadata": {},
   "outputs": [],
   "source": [
    "#Divide the dataset into input and output\n",
    "df_x=df_new.drop(columns=[\"quality\"])\n",
    "y=df_new[[\"quality\"]]"
   ]
  },
  {
   "cell_type": "code",
   "execution_count": 31,
   "metadata": {},
   "outputs": [],
   "source": [
    "#Loop for skew data\n",
    "for index in df_x.skew().index:\n",
    "    if df_x.skew().loc[index] >0.55:\n",
    "        df_x[index]=np.cbrt(df_x[index])"
   ]
  },
  {
   "cell_type": "code",
   "execution_count": 33,
   "metadata": {},
   "outputs": [],
   "source": [
    "le=LabelEncoder()\n",
    "le.fit(y)\n",
    "y=le.transform(y)\n",
    "\n",
    "sc=StandardScaler()\n",
    "sc.fit(df_x)\n",
    "x=sc.transform(df_x)\n",
    "x=pd.DataFrame(x,columns=df_x.columns)\n"
   ]
  },
  {
   "cell_type": "code",
   "execution_count": 48,
   "metadata": {},
   "outputs": [],
   "source": [
    "\n",
    "def max_aucroc_score(clf,df_x,y):\n",
    "    max_aucroc_score=0\n",
    "    for r_state in range(42,100):\n",
    "        x_train, x_test, y_train, y_test = train_test_split(df_x, y,random_state = r_state,test_size=0.20,stratify=y)\n",
    "        clf.fit(x_train,y_train)\n",
    "        y_pred = clf.predict(x_test)\n",
    "        aucroc_scr=roc_auc_score(y_test,y_pred)\n",
    "        print(\"auc roc score corresponding to \",r_state,\" is \",aucroc_scr)\n",
    "        if aucroc_scr>max_aucroc_score:\n",
    "            max_aucroc_score=aucroc_scr\n",
    "            final_r_state=r_state\n",
    "    print(\"max auc roc score corresponding to \",final_r_state,\" is \",max_aucroc_score)\n",
    "    return final_r_state"
   ]
  },
  {
   "cell_type": "code",
   "execution_count": 49,
   "metadata": {},
   "outputs": [],
   "source": [
    "def kfold(clf,x,y,):\n",
    "    print(\"Mean roc auc score for\",clf,cross_val_score(clf,x,y,cv=5,scoring=\"roc_auc\").mean())\n",
    "    print(\"standard deviation in roc auc score for\",clf,cross_val_score(clf,x,y,cv=5,scoring=\"roc_auc\").std())\n",
    "    print(cross_val_score(clf,x,y,cv=5,scoring=\"roc_auc\"))"
   ]
  },
  {
   "cell_type": "code",
   "execution_count": 50,
   "metadata": {},
   "outputs": [
    {
     "name": "stdout",
     "output_type": "stream",
     "text": [
      "auc roc score corresponding to  42  is  0.7168650793650793\n",
      "auc roc score corresponding to  43  is  0.7932539682539682\n",
      "auc roc score corresponding to  44  is  0.7543650793650795\n",
      "auc roc score corresponding to  45  is  0.6767857142857143\n",
      "auc roc score corresponding to  46  is  0.7623015873015874\n",
      "auc roc score corresponding to  47  is  0.7103174603174603\n",
      "auc roc score corresponding to  48  is  0.763690476190476\n",
      "auc roc score corresponding to  49  is  0.7571428571428571\n",
      "auc roc score corresponding to  50  is  0.6958333333333333\n",
      "auc roc score corresponding to  51  is  0.7734126984126984\n",
      "auc roc score corresponding to  52  is  0.7432539682539683\n",
      "auc roc score corresponding to  53  is  0.7248015873015873\n",
      "auc roc score corresponding to  54  is  0.7373015873015873\n",
      "auc roc score corresponding to  55  is  0.7228174603174604\n",
      "auc roc score corresponding to  56  is  0.7378968253968253\n",
      "auc roc score corresponding to  57  is  0.7392857142857143\n",
      "auc roc score corresponding to  58  is  0.7367063492063491\n",
      "auc roc score corresponding to  59  is  0.6873015873015874\n",
      "auc roc score corresponding to  60  is  0.7807539682539683\n",
      "auc roc score corresponding to  61  is  0.801190476190476\n",
      "auc roc score corresponding to  62  is  0.7603174603174604\n",
      "auc roc score corresponding to  63  is  0.7523809523809525\n",
      "auc roc score corresponding to  64  is  0.7307539682539683\n",
      "auc roc score corresponding to  65  is  0.7452380952380953\n",
      "auc roc score corresponding to  66  is  0.7597222222222222\n",
      "auc roc score corresponding to  67  is  0.8123015873015873\n",
      "auc roc score corresponding to  68  is  0.7642857142857143\n",
      "auc roc score corresponding to  69  is  0.8228174603174604\n",
      "auc roc score corresponding to  70  is  0.7676587301587301\n",
      "auc roc score corresponding to  71  is  0.6992063492063492\n",
      "auc roc score corresponding to  72  is  0.7623015873015874\n",
      "auc roc score corresponding to  73  is  0.7458333333333332\n",
      "auc roc score corresponding to  74  is  0.7708333333333333\n",
      "auc roc score corresponding to  75  is  0.7853174603174603\n",
      "auc roc score corresponding to  76  is  0.7813492063492063\n",
      "auc roc score corresponding to  77  is  0.7623015873015874\n",
      "auc roc score corresponding to  78  is  0.6438492063492063\n",
      "auc roc score corresponding to  79  is  0.7188492063492063\n",
      "auc roc score corresponding to  80  is  0.8057539682539683\n",
      "auc roc score corresponding to  81  is  0.7972222222222222\n",
      "auc roc score corresponding to  82  is  0.7398809523809524\n",
      "auc roc score corresponding to  83  is  0.7682539682539683\n",
      "auc roc score corresponding to  84  is  0.8031746031746031\n",
      "auc roc score corresponding to  85  is  0.7787698412698413\n",
      "auc roc score corresponding to  86  is  0.7543650793650795\n",
      "auc roc score corresponding to  87  is  0.7662698412698413\n",
      "auc roc score corresponding to  88  is  0.7642857142857143\n",
      "auc roc score corresponding to  89  is  0.7307539682539683\n",
      "auc roc score corresponding to  90  is  0.7063492063492064\n",
      "auc roc score corresponding to  91  is  0.6992063492063492\n",
      "auc roc score corresponding to  92  is  0.8253968253968254\n",
      "auc roc score corresponding to  93  is  0.7242063492063491\n",
      "auc roc score corresponding to  94  is  0.7373015873015873\n",
      "auc roc score corresponding to  95  is  0.7799603174603175\n",
      "auc roc score corresponding to  96  is  0.7583333333333334\n",
      "auc roc score corresponding to  97  is  0.7392857142857143\n",
      "auc roc score corresponding to  98  is  0.7182539682539681\n",
      "auc roc score corresponding to  99  is  0.7603174603174604\n",
      "max auc roc score corresponding to  92  is  0.8253968253968254\n"
     ]
    },
    {
     "data": {
      "text/plain": [
       "92"
      ]
     },
     "execution_count": 50,
     "metadata": {},
     "output_type": "execute_result"
    }
   ],
   "source": [
    "\n",
    "dc=DecisionTreeClassifier()\n",
    "max_aucroc_score(dc,x,y)"
   ]
  },
  {
   "cell_type": "code",
   "execution_count": 51,
   "metadata": {
    "scrolled": true
   },
   "outputs": [
    {
     "name": "stdout",
     "output_type": "stream",
     "text": [
      "Mean roc auc score for DecisionTreeClassifier() 0.6601356517406949\n",
      "standard deviation in roc auc score for DecisionTreeClassifier() 0.058267881871257046\n",
      "[0.55376984 0.72063492 0.69808571 0.6623506  0.62918327]\n"
     ]
    }
   ],
   "source": [
    "kfold(dc,x,y)"
   ]
  },
  {
   "cell_type": "code",
   "execution_count": 52,
   "metadata": {},
   "outputs": [
    {
     "data": {
      "text/plain": [
       "{'n_neighbors': 29}"
      ]
     },
     "execution_count": 52,
     "metadata": {},
     "output_type": "execute_result"
    }
   ],
   "source": [
    "\n",
    "kc=KNeighborsClassifier()\n",
    "neighbors={\"n_neighbors\":range(1,30)}\n",
    "clf = GridSearchCV(kc, neighbors, cv=5,scoring=\"roc_auc\")\n",
    "clf.fit(x,y)\n",
    "clf.best_params_"
   ]
  },
  {
   "cell_type": "code",
   "execution_count": 53,
   "metadata": {
    "scrolled": true
   },
   "outputs": [
    {
     "name": "stdout",
     "output_type": "stream",
     "text": [
      "auc roc score corresponding to  42  is  0.6045634920634921\n",
      "auc roc score corresponding to  43  is  0.6275793650793651\n",
      "auc roc score corresponding to  44  is  0.6315476190476191\n",
      "auc roc score corresponding to  45  is  0.5696428571428572\n",
      "auc roc score corresponding to  46  is  0.5920634920634921\n",
      "auc roc score corresponding to  47  is  0.625595238095238\n",
      "auc roc score corresponding to  48  is  0.629563492063492\n",
      "auc roc score corresponding to  49  is  0.6565476190476192\n",
      "auc roc score corresponding to  50  is  0.588095238095238\n",
      "auc roc score corresponding to  51  is  0.550595238095238\n",
      "auc roc score corresponding to  52  is  0.6486111111111111\n",
      "auc roc score corresponding to  53  is  0.6105158730158731\n",
      "auc roc score corresponding to  54  is  0.5525793650793651\n",
      "auc roc score corresponding to  55  is  0.611111111111111\n",
      "auc roc score corresponding to  56  is  0.613095238095238\n",
      "auc roc score corresponding to  57  is  0.640079365079365\n",
      "auc roc score corresponding to  58  is  0.6051587301587301\n",
      "auc roc score corresponding to  59  is  0.6045634920634921\n",
      "auc roc score corresponding to  60  is  0.6440476190476191\n",
      "auc roc score corresponding to  61  is  0.625595238095238\n",
      "auc roc score corresponding to  62  is  0.5821428571428571\n",
      "auc roc score corresponding to  63  is  0.646626984126984\n",
      "auc roc score corresponding to  64  is  0.6196428571428572\n",
      "auc roc score corresponding to  65  is  0.6170634920634921\n",
      "auc roc score corresponding to  66  is  0.615079365079365\n",
      "auc roc score corresponding to  67  is  0.6420634920634921\n",
      "auc roc score corresponding to  68  is  0.5966269841269841\n",
      "auc roc score corresponding to  69  is  0.6341269841269841\n",
      "auc roc score corresponding to  70  is  0.625595238095238\n",
      "auc roc score corresponding to  71  is  0.623015873015873\n",
      "auc roc score corresponding to  72  is  0.596031746031746\n",
      "auc roc score corresponding to  73  is  0.586111111111111\n",
      "auc roc score corresponding to  74  is  0.611111111111111\n",
      "auc roc score corresponding to  75  is  0.692063492063492\n",
      "auc roc score corresponding to  76  is  0.675595238095238\n",
      "auc roc score corresponding to  77  is  0.6051587301587301\n",
      "auc roc score corresponding to  78  is  0.640079365079365\n",
      "auc roc score corresponding to  79  is  0.658531746031746\n",
      "auc roc score corresponding to  80  is  0.5835317460317461\n",
      "auc roc score corresponding to  81  is  0.640079365079365\n",
      "auc roc score corresponding to  82  is  0.588095238095238\n",
      "auc roc score corresponding to  83  is  0.6420634920634921\n",
      "auc roc score corresponding to  84  is  0.6545634920634921\n",
      "auc roc score corresponding to  85  is  0.5906746031746033\n",
      "auc roc score corresponding to  86  is  0.6367063492063492\n",
      "auc roc score corresponding to  87  is  0.567063492063492\n",
      "auc roc score corresponding to  88  is  0.590079365079365\n",
      "auc roc score corresponding to  89  is  0.640079365079365\n",
      "auc roc score corresponding to  90  is  0.621626984126984\n",
      "auc roc score corresponding to  91  is  0.590079365079365\n",
      "auc roc score corresponding to  92  is  0.6261904761904762\n",
      "auc roc score corresponding to  93  is  0.521626984126984\n",
      "auc roc score corresponding to  94  is  0.6091269841269841\n",
      "auc roc score corresponding to  95  is  0.5986111111111112\n",
      "auc roc score corresponding to  96  is  0.565079365079365\n",
      "auc roc score corresponding to  97  is  0.5986111111111112\n",
      "auc roc score corresponding to  98  is  0.567063492063492\n",
      "auc roc score corresponding to  99  is  0.6031746031746031\n",
      "max auc roc score corresponding to  75  is  0.692063492063492\n"
     ]
    },
    {
     "data": {
      "text/plain": [
       "75"
      ]
     },
     "execution_count": 53,
     "metadata": {},
     "output_type": "execute_result"
    }
   ],
   "source": [
    "kc=KNeighborsClassifier(n_neighbors=29)\n",
    "max_aucroc_score(kc,x,y)"
   ]
  },
  {
   "cell_type": "code",
   "execution_count": 54,
   "metadata": {},
   "outputs": [
    {
     "name": "stdout",
     "output_type": "stream",
     "text": [
      "Mean roc auc score for KNeighborsClassifier(n_neighbors=29) 0.8381821089625239\n",
      "standard deviation in roc auc score for KNeighborsClassifier(n_neighbors=29) 0.023252855720876445\n",
      "[0.86185516 0.84856151 0.85992615 0.81200199 0.80856574]\n"
     ]
    }
   ],
   "source": [
    "kfold(kc,x,y)"
   ]
  },
  {
   "cell_type": "code",
   "execution_count": 55,
   "metadata": {},
   "outputs": [
    {
     "data": {
      "text/plain": [
       "{'n_estimators': 200}"
      ]
     },
     "execution_count": 55,
     "metadata": {},
     "output_type": "execute_result"
    }
   ],
   "source": [
    "from sklearn.ensemble import RandomForestClassifier\n",
    "parameters={\"n_estimators\":[10,50,100,150,200,300,350,400,450,500]}\n",
    "rf_clf=RandomForestClassifier()\n",
    "clf = GridSearchCV(rf_clf, parameters, cv=5,scoring=\"roc_auc\")\n",
    "clf.fit(df_x,y)\n",
    "clf.best_params_"
   ]
  },
  {
   "cell_type": "code",
   "execution_count": 56,
   "metadata": {},
   "outputs": [
    {
     "name": "stdout",
     "output_type": "stream",
     "text": [
      "auc roc score corresponding to  42  is  0.7341269841269841\n",
      "auc roc score corresponding to  43  is  0.7440476190476191\n",
      "auc roc score corresponding to  44  is  0.7315476190476191\n",
      "auc roc score corresponding to  45  is  0.6716269841269841\n",
      "auc roc score corresponding to  46  is  0.790079365079365\n",
      "auc roc score corresponding to  47  is  0.7275793650793652\n",
      "auc roc score corresponding to  48  is  0.715079365079365\n",
      "auc roc score corresponding to  49  is  0.790079365079365\n",
      "auc roc score corresponding to  50  is  0.6670634920634921\n",
      "auc roc score corresponding to  51  is  0.740079365079365\n",
      "auc roc score corresponding to  52  is  0.7315476190476191\n",
      "auc roc score corresponding to  53  is  0.765079365079365\n",
      "auc roc score corresponding to  54  is  0.7025793650793651\n",
      "auc roc score corresponding to  55  is  0.736111111111111\n",
      "auc roc score corresponding to  56  is  0.809126984126984\n",
      "auc roc score corresponding to  57  is  0.7775793650793651\n",
      "auc roc score corresponding to  58  is  0.763095238095238\n",
      "auc roc score corresponding to  59  is  0.7071428571428571\n",
      "auc roc score corresponding to  60  is  0.7690476190476191\n",
      "auc roc score corresponding to  61  is  0.750595238095238\n",
      "auc roc score corresponding to  62  is  0.6926587301587301\n",
      "auc roc score corresponding to  63  is  0.800595238095238\n",
      "auc roc score corresponding to  64  is  0.686111111111111\n",
      "auc roc score corresponding to  65  is  0.711111111111111\n",
      "auc roc score corresponding to  66  is  0.7255952380952381\n",
      "auc roc score corresponding to  67  is  0.790079365079365\n",
      "auc roc score corresponding to  68  is  0.8525793650793652\n",
      "auc roc score corresponding to  69  is  0.771626984126984\n",
      "auc roc score corresponding to  70  is  0.7795634920634921\n",
      "auc roc score corresponding to  71  is  0.8315476190476191\n",
      "auc roc score corresponding to  72  is  0.7255952380952381\n",
      "auc roc score corresponding to  73  is  0.750595238095238\n",
      "auc roc score corresponding to  74  is  0.711111111111111\n",
      "auc roc score corresponding to  75  is  0.8420634920634921\n",
      "auc roc score corresponding to  76  is  0.771626984126984\n",
      "auc roc score corresponding to  77  is  0.7321428571428571\n",
      "auc roc score corresponding to  78  is  0.740079365079365\n",
      "auc roc score corresponding to  79  is  0.7341269841269841\n",
      "auc roc score corresponding to  80  is  0.7690476190476191\n",
      "auc roc score corresponding to  81  is  0.7420634920634921\n",
      "auc roc score corresponding to  82  is  0.7295634920634921\n",
      "auc roc score corresponding to  83  is  0.738095238095238\n",
      "auc roc score corresponding to  84  is  0.7795634920634921\n",
      "auc roc score corresponding to  85  is  0.7525793650793651\n",
      "auc roc score corresponding to  86  is  0.738690476190476\n",
      "auc roc score corresponding to  87  is  0.7255952380952381\n",
      "auc roc score corresponding to  88  is  0.7236111111111112\n",
      "auc roc score corresponding to  89  is  0.740079365079365\n",
      "auc roc score corresponding to  90  is  0.6966269841269841\n",
      "auc roc score corresponding to  91  is  0.7861111111111111\n",
      "auc roc score corresponding to  92  is  0.8636904761904761\n",
      "auc roc score corresponding to  93  is  0.7071428571428571\n",
      "auc roc score corresponding to  94  is  0.7920634920634921\n",
      "auc roc score corresponding to  95  is  0.7676587301587301\n",
      "auc roc score corresponding to  96  is  0.7176587301587302\n",
      "auc roc score corresponding to  97  is  0.7486111111111111\n",
      "auc roc score corresponding to  98  is  0.6966269841269841\n",
      "auc roc score corresponding to  99  is  0.682142857142857\n",
      "max auc roc score corresponding to  92  is  0.8636904761904761\n"
     ]
    },
    {
     "data": {
      "text/plain": [
       "92"
      ]
     },
     "execution_count": 56,
     "metadata": {},
     "output_type": "execute_result"
    }
   ],
   "source": [
    "rf_clf=RandomForestClassifier(n_estimators=500)\n",
    "max_aucroc_score(rf_clf,df_x,y)"
   ]
  },
  {
   "cell_type": "code",
   "execution_count": 57,
   "metadata": {},
   "outputs": [
    {
     "name": "stdout",
     "output_type": "stream",
     "text": [
      "Mean roc auc score for RandomForestClassifier(n_estimators=500) 0.8606771606951982\n",
      "standard deviation in roc auc score for RandomForestClassifier(n_estimators=500) 0.02682430806615382\n",
      "[0.89786706 0.8391369  0.89743465 0.83286853 0.85901394]\n"
     ]
    }
   ],
   "source": [
    "kfold(rf_clf,x,y)"
   ]
  },
  {
   "cell_type": "code",
   "execution_count": 59,
   "metadata": {},
   "outputs": [
    {
     "data": {
      "text/plain": [
       "{'learning_rate': 0.01, 'n_estimators': 500}"
      ]
     },
     "execution_count": 59,
     "metadata": {},
     "output_type": "execute_result"
    }
   ],
   "source": [
    "parameters={\"learning_rate\":[0.001,0.01,0.1,1],\"n_estimators\":[10,100,500,1000]}\n",
    "gb_clf=GradientBoostingClassifier()\n",
    "clf = GridSearchCV(gb_clf, parameters, cv=5,scoring=\"roc_auc\")\n",
    "clf.fit(df_x,y)\n",
    "clf.best_params_"
   ]
  },
  {
   "cell_type": "code",
   "execution_count": 60,
   "metadata": {},
   "outputs": [
    {
     "name": "stdout",
     "output_type": "stream",
     "text": [
      "auc roc score corresponding to  42  is  0.7906746031746033\n",
      "auc roc score corresponding to  43  is  0.7571428571428571\n",
      "auc roc score corresponding to  44  is  0.7525793650793651\n",
      "auc roc score corresponding to  45  is  0.6926587301587301\n",
      "auc roc score corresponding to  46  is  0.7992063492063491\n",
      "auc roc score corresponding to  47  is  0.7577380952380952\n",
      "auc roc score corresponding to  48  is  0.7321428571428571\n",
      "auc roc score corresponding to  49  is  0.8196428571428572\n",
      "auc roc score corresponding to  50  is  0.6946428571428572\n",
      "auc roc score corresponding to  51  is  0.7321428571428571\n",
      "auc roc score corresponding to  52  is  0.8031746031746031\n",
      "auc roc score corresponding to  53  is  0.7986111111111112\n",
      "auc roc score corresponding to  54  is  0.700595238095238\n",
      "auc roc score corresponding to  55  is  0.7571428571428571\n",
      "auc roc score corresponding to  56  is  0.788690476190476\n",
      "auc roc score corresponding to  57  is  0.7676587301587301\n",
      "auc roc score corresponding to  58  is  0.763095238095238\n",
      "auc roc score corresponding to  59  is  0.7281746031746031\n",
      "auc roc score corresponding to  60  is  0.7960317460317461\n",
      "auc roc score corresponding to  61  is  0.7781746031746032\n",
      "auc roc score corresponding to  62  is  0.726190476190476\n",
      "auc roc score corresponding to  63  is  0.8301587301587301\n",
      "auc roc score corresponding to  64  is  0.6867063492063492\n",
      "auc roc score corresponding to  65  is  0.7986111111111112\n",
      "auc roc score corresponding to  66  is  0.7551587301587301\n",
      "auc roc score corresponding to  67  is  0.7617063492063492\n",
      "auc roc score corresponding to  68  is  0.8551587301587301\n",
      "auc roc score corresponding to  69  is  0.7597222222222222\n",
      "auc roc score corresponding to  70  is  0.8216269841269841\n",
      "auc roc score corresponding to  71  is  0.7611111111111111\n",
      "auc roc score corresponding to  72  is  0.7611111111111111\n",
      "auc roc score corresponding to  73  is  0.7676587301587301\n",
      "auc roc score corresponding to  74  is  0.7781746031746032\n",
      "auc roc score corresponding to  75  is  0.8386904761904762\n",
      "auc roc score corresponding to  76  is  0.8307539682539683\n",
      "auc roc score corresponding to  77  is  0.7676587301587301\n",
      "auc roc score corresponding to  78  is  0.6946428571428572\n",
      "auc roc score corresponding to  79  is  0.7926587301587301\n",
      "auc roc score corresponding to  80  is  0.7986111111111112\n",
      "auc roc score corresponding to  81  is  0.7696428571428572\n",
      "auc roc score corresponding to  82  is  0.801190476190476\n",
      "auc roc score corresponding to  83  is  0.7861111111111111\n",
      "auc roc score corresponding to  84  is  0.7795634920634921\n",
      "auc roc score corresponding to  85  is  0.7906746031746033\n",
      "auc roc score corresponding to  86  is  0.7267857142857144\n",
      "auc roc score corresponding to  87  is  0.7426587301587301\n",
      "auc roc score corresponding to  88  is  0.726190476190476\n",
      "auc roc score corresponding to  89  is  0.815079365079365\n",
      "auc roc score corresponding to  90  is  0.7242063492063491\n",
      "auc roc score corresponding to  91  is  0.7321428571428571\n",
      "auc roc score corresponding to  92  is  0.8432539682539683\n",
      "auc roc score corresponding to  93  is  0.7571428571428571\n",
      "auc roc score corresponding to  94  is  0.811111111111111\n",
      "auc roc score corresponding to  95  is  0.8367063492063492\n",
      "auc roc score corresponding to  96  is  0.7057539682539682\n",
      "auc roc score corresponding to  97  is  0.7531746031746032\n",
      "auc roc score corresponding to  98  is  0.7031746031746031\n",
      "auc roc score corresponding to  99  is  0.7077380952380953\n",
      "max auc roc score corresponding to  68  is  0.8551587301587301\n"
     ]
    },
    {
     "data": {
      "text/plain": [
       "68"
      ]
     },
     "execution_count": 60,
     "metadata": {},
     "output_type": "execute_result"
    }
   ],
   "source": [
    "gb_clf=GradientBoostingClassifier(learning_rate=0.1,n_estimators=500)\n",
    "max_aucroc_score(gb_clf,df_x,y)"
   ]
  },
  {
   "cell_type": "code",
   "execution_count": 61,
   "metadata": {},
   "outputs": [
    {
     "name": "stdout",
     "output_type": "stream",
     "text": [
      "Mean roc auc score for GradientBoostingClassifier(n_estimators=500) 0.8439366633350455\n",
      "standard deviation in roc auc score for GradientBoostingClassifier(n_estimators=500) 0.03424476905624375\n",
      "[0.87956349 0.79156746 0.88144981 0.81733068 0.84671315]\n"
     ]
    }
   ],
   "source": [
    "kfold(gb_clf,x,y)"
   ]
  },
  {
   "cell_type": "code",
   "execution_count": 62,
   "metadata": {},
   "outputs": [
    {
     "data": {
      "text/plain": [
       "{'C': 0.1, 'kernel': 'linear'}"
      ]
     },
     "execution_count": 62,
     "metadata": {},
     "output_type": "execute_result"
    }
   ],
   "source": [
    "from sklearn.svm import SVC\n",
    "svc=SVC()\n",
    "parameters={\"kernel\":[\"linear\", \"poly\", \"rbf\"],\"C\":[0.001,0.01,0.1,1,10]}\n",
    "clf = GridSearchCV(svc, parameters, cv=5,scoring=\"roc_auc\")\n",
    "clf.fit(x,y)\n",
    "clf.best_params_"
   ]
  },
  {
   "cell_type": "code",
   "execution_count": 63,
   "metadata": {},
   "outputs": [
    {
     "name": "stdout",
     "output_type": "stream",
     "text": [
      "auc roc score corresponding to  42  is  0.5545634920634921\n",
      "auc roc score corresponding to  43  is  0.5\n",
      "auc roc score corresponding to  44  is  0.5\n",
      "auc roc score corresponding to  45  is  0.6236111111111111\n",
      "auc roc score corresponding to  46  is  0.5\n",
      "auc roc score corresponding to  47  is  0.55\n",
      "auc roc score corresponding to  48  is  0.5480158730158731\n",
      "auc roc score corresponding to  49  is  0.5\n",
      "auc roc score corresponding to  50  is  0.5920634920634921\n",
      "auc roc score corresponding to  51  is  0.567063492063492\n",
      "auc roc score corresponding to  52  is  0.575\n",
      "auc roc score corresponding to  53  is  0.498015873015873\n",
      "auc roc score corresponding to  54  is  0.5210317460317461\n",
      "auc roc score corresponding to  55  is  0.575595238095238\n",
      "auc roc score corresponding to  56  is  0.6125\n",
      "auc roc score corresponding to  57  is  0.5\n",
      "auc roc score corresponding to  58  is  0.5375\n",
      "auc roc score corresponding to  59  is  0.5545634920634921\n",
      "auc roc score corresponding to  60  is  0.5\n",
      "auc roc score corresponding to  61  is  0.5835317460317461\n",
      "auc roc score corresponding to  62  is  0.611111111111111\n",
      "auc roc score corresponding to  63  is  0.6170634920634921\n",
      "auc roc score corresponding to  64  is  0.5920634920634921\n",
      "auc roc score corresponding to  65  is  0.5\n",
      "auc roc score corresponding to  66  is  0.5795634920634921\n",
      "auc roc score corresponding to  67  is  0.5440476190476191\n",
      "auc roc score corresponding to  68  is  0.5815476190476191\n",
      "auc roc score corresponding to  69  is  0.5986111111111112\n",
      "auc roc score corresponding to  70  is  0.6065476190476191\n",
      "auc roc score corresponding to  71  is  0.5\n",
      "auc roc score corresponding to  72  is  0.533531746031746\n",
      "auc roc score corresponding to  73  is  0.5\n",
      "auc roc score corresponding to  74  is  0.558531746031746\n",
      "auc roc score corresponding to  75  is  0.5355158730158731\n",
      "auc roc score corresponding to  76  is  0.5545634920634921\n",
      "auc roc score corresponding to  77  is  0.569047619047619\n",
      "auc roc score corresponding to  78  is  0.6275793650793651\n",
      "auc roc score corresponding to  79  is  0.525\n",
      "auc roc score corresponding to  80  is  0.571031746031746\n",
      "auc roc score corresponding to  81  is  0.5\n",
      "auc roc score corresponding to  82  is  0.567063492063492\n",
      "auc roc score corresponding to  83  is  0.5375\n",
      "auc roc score corresponding to  84  is  0.5815476190476191\n",
      "auc roc score corresponding to  85  is  0.5\n",
      "auc roc score corresponding to  86  is  0.586111111111111\n",
      "auc roc score corresponding to  87  is  0.596031746031746\n",
      "auc roc score corresponding to  88  is  0.5565476190476191\n",
      "auc roc score corresponding to  89  is  0.5\n",
      "auc roc score corresponding to  90  is  0.5486111111111112\n",
      "auc roc score corresponding to  91  is  0.5375\n",
      "auc roc score corresponding to  92  is  0.5525793650793651\n",
      "auc roc score corresponding to  93  is  0.5486111111111112\n",
      "auc roc score corresponding to  94  is  0.5815476190476191\n",
      "auc roc score corresponding to  95  is  0.625595238095238\n",
      "auc roc score corresponding to  96  is  0.6045634920634921\n",
      "auc roc score corresponding to  97  is  0.6085317460317461\n",
      "auc roc score corresponding to  98  is  0.5815476190476191\n",
      "auc roc score corresponding to  99  is  0.6361111111111111\n",
      "max auc roc score corresponding to  99  is  0.6361111111111111\n"
     ]
    },
    {
     "data": {
      "text/plain": [
       "99"
      ]
     },
     "execution_count": 63,
     "metadata": {},
     "output_type": "execute_result"
    }
   ],
   "source": [
    "svc=SVC(kernel=\"linear\",C=0.1)\n",
    "max_aucroc_score(svc,x,y)"
   ]
  },
  {
   "cell_type": "code",
   "execution_count": 64,
   "metadata": {},
   "outputs": [
    {
     "name": "stdout",
     "output_type": "stream",
     "text": [
      "Mean roc auc score for SVC(C=0.1, kernel='linear') 0.8881509328539501\n",
      "standard deviation in roc auc score for SVC(C=0.1, kernel='linear') 0.02467616332933558\n",
      "[0.9155754  0.8781746  0.91662618 0.85239044 0.87798805]\n"
     ]
    }
   ],
   "source": [
    "kfold(svc,x,y)"
   ]
  },
  {
   "cell_type": "markdown",
   "metadata": {},
   "source": [
    "Random Forest Classifier performs the best. We will choose that model"
   ]
  },
  {
   "cell_type": "code",
   "execution_count": 65,
   "metadata": {},
   "outputs": [],
   "source": [
    "x_train,x_test,y_train,y_test=train_test_split(x, y,random_state = 92,test_size=0.20,stratify=y)\n",
    "rf_clf.fit(x_train,y_train)\n",
    "y_pred=rf_clf.predict(x_test)"
   ]
  },
  {
   "cell_type": "code",
   "execution_count": 68,
   "metadata": {},
   "outputs": [
    {
     "name": "stdout",
     "output_type": "stream",
     "text": [
      "[[240  12]\n",
      " [  9  31]]\n",
      "              precision    recall  f1-score   support\n",
      "\n",
      "           0       0.96      0.95      0.96       252\n",
      "           1       0.72      0.78      0.75        40\n",
      "\n",
      "    accuracy                           0.93       292\n",
      "   macro avg       0.84      0.86      0.85       292\n",
      "weighted avg       0.93      0.93      0.93       292\n",
      "\n"
     ]
    }
   ],
   "source": [
    "#Model performance\n",
    "print(confusion_matrix(y_test,y_pred))\n",
    "print(classification_report(y_test,y_pred))"
   ]
  },
  {
   "cell_type": "code",
   "execution_count": 69,
   "metadata": {},
   "outputs": [],
   "source": [
    "import joblib "
   ]
  },
  {
   "cell_type": "code",
   "execution_count": 70,
   "metadata": {},
   "outputs": [
    {
     "data": {
      "text/plain": [
       "['winequalityprediction.pkl']"
      ]
     },
     "execution_count": 70,
     "metadata": {},
     "output_type": "execute_result"
    }
   ],
   "source": [
    "joblib.dump(svc, 'winequalityprediction.pkl')"
   ]
  },
  {
   "cell_type": "code",
   "execution_count": null,
   "metadata": {},
   "outputs": [],
   "source": []
  }
 ],
 "metadata": {
  "kernelspec": {
   "display_name": "Python 3",
   "language": "python",
   "name": "python3"
  },
  "language_info": {
   "codemirror_mode": {
    "name": "ipython",
    "version": 3
   },
   "file_extension": ".py",
   "mimetype": "text/x-python",
   "name": "python",
   "nbconvert_exporter": "python",
   "pygments_lexer": "ipython3",
   "version": "3.8.5"
  }
 },
 "nbformat": 4,
 "nbformat_minor": 4
}
